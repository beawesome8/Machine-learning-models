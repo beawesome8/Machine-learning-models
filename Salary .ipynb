{
 "cells": [
  {
   "cell_type": "code",
   "execution_count": 1,
   "metadata": {},
   "outputs": [],
   "source": [
    "import pandas as pd\n",
    "import numpy as np"
   ]
  },
  {
   "cell_type": "code",
   "execution_count": 3,
   "metadata": {},
   "outputs": [
    {
     "data": {
      "text/html": [
       "<div>\n",
       "<style scoped>\n",
       "    .dataframe tbody tr th:only-of-type {\n",
       "        vertical-align: middle;\n",
       "    }\n",
       "\n",
       "    .dataframe tbody tr th {\n",
       "        vertical-align: top;\n",
       "    }\n",
       "\n",
       "    .dataframe thead th {\n",
       "        text-align: right;\n",
       "    }\n",
       "</style>\n",
       "<table border=\"1\" class=\"dataframe\">\n",
       "  <thead>\n",
       "    <tr style=\"text-align: right;\">\n",
       "      <th></th>\n",
       "      <th>rank</th>\n",
       "      <th>discipline</th>\n",
       "      <th>yrs.since.phd</th>\n",
       "      <th>yrs.service</th>\n",
       "      <th>sex</th>\n",
       "      <th>salary</th>\n",
       "    </tr>\n",
       "  </thead>\n",
       "  <tbody>\n",
       "    <tr>\n",
       "      <th>0</th>\n",
       "      <td>Prof</td>\n",
       "      <td>B</td>\n",
       "      <td>19</td>\n",
       "      <td>18</td>\n",
       "      <td>Male</td>\n",
       "      <td>139750</td>\n",
       "    </tr>\n",
       "    <tr>\n",
       "      <th>1</th>\n",
       "      <td>Prof</td>\n",
       "      <td>B</td>\n",
       "      <td>20</td>\n",
       "      <td>16</td>\n",
       "      <td>Male</td>\n",
       "      <td>173200</td>\n",
       "    </tr>\n",
       "    <tr>\n",
       "      <th>2</th>\n",
       "      <td>AsstProf</td>\n",
       "      <td>B</td>\n",
       "      <td>4</td>\n",
       "      <td>3</td>\n",
       "      <td>Male</td>\n",
       "      <td>79750</td>\n",
       "    </tr>\n",
       "    <tr>\n",
       "      <th>3</th>\n",
       "      <td>Prof</td>\n",
       "      <td>B</td>\n",
       "      <td>45</td>\n",
       "      <td>39</td>\n",
       "      <td>Male</td>\n",
       "      <td>115000</td>\n",
       "    </tr>\n",
       "    <tr>\n",
       "      <th>4</th>\n",
       "      <td>Prof</td>\n",
       "      <td>B</td>\n",
       "      <td>40</td>\n",
       "      <td>41</td>\n",
       "      <td>Male</td>\n",
       "      <td>141500</td>\n",
       "    </tr>\n",
       "    <tr>\n",
       "      <th>...</th>\n",
       "      <td>...</td>\n",
       "      <td>...</td>\n",
       "      <td>...</td>\n",
       "      <td>...</td>\n",
       "      <td>...</td>\n",
       "      <td>...</td>\n",
       "    </tr>\n",
       "    <tr>\n",
       "      <th>392</th>\n",
       "      <td>Prof</td>\n",
       "      <td>A</td>\n",
       "      <td>33</td>\n",
       "      <td>30</td>\n",
       "      <td>Male</td>\n",
       "      <td>103106</td>\n",
       "    </tr>\n",
       "    <tr>\n",
       "      <th>393</th>\n",
       "      <td>Prof</td>\n",
       "      <td>A</td>\n",
       "      <td>31</td>\n",
       "      <td>19</td>\n",
       "      <td>Male</td>\n",
       "      <td>150564</td>\n",
       "    </tr>\n",
       "    <tr>\n",
       "      <th>394</th>\n",
       "      <td>Prof</td>\n",
       "      <td>A</td>\n",
       "      <td>42</td>\n",
       "      <td>25</td>\n",
       "      <td>Male</td>\n",
       "      <td>101738</td>\n",
       "    </tr>\n",
       "    <tr>\n",
       "      <th>395</th>\n",
       "      <td>Prof</td>\n",
       "      <td>A</td>\n",
       "      <td>25</td>\n",
       "      <td>15</td>\n",
       "      <td>Male</td>\n",
       "      <td>95329</td>\n",
       "    </tr>\n",
       "    <tr>\n",
       "      <th>396</th>\n",
       "      <td>AsstProf</td>\n",
       "      <td>A</td>\n",
       "      <td>8</td>\n",
       "      <td>4</td>\n",
       "      <td>Male</td>\n",
       "      <td>81035</td>\n",
       "    </tr>\n",
       "  </tbody>\n",
       "</table>\n",
       "<p>397 rows × 6 columns</p>\n",
       "</div>"
      ],
      "text/plain": [
       "         rank discipline  yrs.since.phd  yrs.service   sex  salary\n",
       "0        Prof          B             19           18  Male  139750\n",
       "1        Prof          B             20           16  Male  173200\n",
       "2    AsstProf          B              4            3  Male   79750\n",
       "3        Prof          B             45           39  Male  115000\n",
       "4        Prof          B             40           41  Male  141500\n",
       "..        ...        ...            ...          ...   ...     ...\n",
       "392      Prof          A             33           30  Male  103106\n",
       "393      Prof          A             31           19  Male  150564\n",
       "394      Prof          A             42           25  Male  101738\n",
       "395      Prof          A             25           15  Male   95329\n",
       "396  AsstProf          A              8            4  Male   81035\n",
       "\n",
       "[397 rows x 6 columns]"
      ]
     },
     "execution_count": 3,
     "metadata": {},
     "output_type": "execute_result"
    }
   ],
   "source": [
    "df=pd.read_csv('Salary.csv')\n",
    "df"
   ]
  },
  {
   "cell_type": "code",
   "execution_count": 4,
   "metadata": {},
   "outputs": [
    {
     "data": {
      "text/plain": [
       "pandas.core.frame.DataFrame"
      ]
     },
     "execution_count": 4,
     "metadata": {},
     "output_type": "execute_result"
    }
   ],
   "source": [
    "type(df)"
   ]
  },
  {
   "cell_type": "code",
   "execution_count": 5,
   "metadata": {},
   "outputs": [
    {
     "data": {
      "text/html": [
       "<div>\n",
       "<style scoped>\n",
       "    .dataframe tbody tr th:only-of-type {\n",
       "        vertical-align: middle;\n",
       "    }\n",
       "\n",
       "    .dataframe tbody tr th {\n",
       "        vertical-align: top;\n",
       "    }\n",
       "\n",
       "    .dataframe thead th {\n",
       "        text-align: right;\n",
       "    }\n",
       "</style>\n",
       "<table border=\"1\" class=\"dataframe\">\n",
       "  <thead>\n",
       "    <tr style=\"text-align: right;\">\n",
       "      <th></th>\n",
       "      <th>rank</th>\n",
       "      <th>discipline</th>\n",
       "      <th>yrs.since.phd</th>\n",
       "      <th>yrs.service</th>\n",
       "      <th>sex</th>\n",
       "      <th>salary</th>\n",
       "    </tr>\n",
       "  </thead>\n",
       "  <tbody>\n",
       "    <tr>\n",
       "      <th>0</th>\n",
       "      <td>Prof</td>\n",
       "      <td>B</td>\n",
       "      <td>19</td>\n",
       "      <td>18</td>\n",
       "      <td>Male</td>\n",
       "      <td>139750</td>\n",
       "    </tr>\n",
       "    <tr>\n",
       "      <th>1</th>\n",
       "      <td>Prof</td>\n",
       "      <td>B</td>\n",
       "      <td>20</td>\n",
       "      <td>16</td>\n",
       "      <td>Male</td>\n",
       "      <td>173200</td>\n",
       "    </tr>\n",
       "    <tr>\n",
       "      <th>2</th>\n",
       "      <td>AsstProf</td>\n",
       "      <td>B</td>\n",
       "      <td>4</td>\n",
       "      <td>3</td>\n",
       "      <td>Male</td>\n",
       "      <td>79750</td>\n",
       "    </tr>\n",
       "    <tr>\n",
       "      <th>3</th>\n",
       "      <td>Prof</td>\n",
       "      <td>B</td>\n",
       "      <td>45</td>\n",
       "      <td>39</td>\n",
       "      <td>Male</td>\n",
       "      <td>115000</td>\n",
       "    </tr>\n",
       "    <tr>\n",
       "      <th>4</th>\n",
       "      <td>Prof</td>\n",
       "      <td>B</td>\n",
       "      <td>40</td>\n",
       "      <td>41</td>\n",
       "      <td>Male</td>\n",
       "      <td>141500</td>\n",
       "    </tr>\n",
       "    <tr>\n",
       "      <th>5</th>\n",
       "      <td>AssocProf</td>\n",
       "      <td>B</td>\n",
       "      <td>6</td>\n",
       "      <td>6</td>\n",
       "      <td>Male</td>\n",
       "      <td>97000</td>\n",
       "    </tr>\n",
       "    <tr>\n",
       "      <th>6</th>\n",
       "      <td>Prof</td>\n",
       "      <td>B</td>\n",
       "      <td>30</td>\n",
       "      <td>23</td>\n",
       "      <td>Male</td>\n",
       "      <td>175000</td>\n",
       "    </tr>\n",
       "    <tr>\n",
       "      <th>7</th>\n",
       "      <td>Prof</td>\n",
       "      <td>B</td>\n",
       "      <td>45</td>\n",
       "      <td>45</td>\n",
       "      <td>Male</td>\n",
       "      <td>147765</td>\n",
       "    </tr>\n",
       "    <tr>\n",
       "      <th>8</th>\n",
       "      <td>Prof</td>\n",
       "      <td>B</td>\n",
       "      <td>21</td>\n",
       "      <td>20</td>\n",
       "      <td>Male</td>\n",
       "      <td>119250</td>\n",
       "    </tr>\n",
       "    <tr>\n",
       "      <th>9</th>\n",
       "      <td>Prof</td>\n",
       "      <td>B</td>\n",
       "      <td>18</td>\n",
       "      <td>18</td>\n",
       "      <td>Female</td>\n",
       "      <td>129000</td>\n",
       "    </tr>\n",
       "  </tbody>\n",
       "</table>\n",
       "</div>"
      ],
      "text/plain": [
       "        rank discipline  yrs.since.phd  yrs.service     sex  salary\n",
       "0       Prof          B             19           18    Male  139750\n",
       "1       Prof          B             20           16    Male  173200\n",
       "2   AsstProf          B              4            3    Male   79750\n",
       "3       Prof          B             45           39    Male  115000\n",
       "4       Prof          B             40           41    Male  141500\n",
       "5  AssocProf          B              6            6    Male   97000\n",
       "6       Prof          B             30           23    Male  175000\n",
       "7       Prof          B             45           45    Male  147765\n",
       "8       Prof          B             21           20    Male  119250\n",
       "9       Prof          B             18           18  Female  129000"
      ]
     },
     "execution_count": 5,
     "metadata": {},
     "output_type": "execute_result"
    }
   ],
   "source": [
    "df.head(10)"
   ]
  },
  {
   "cell_type": "code",
   "execution_count": 7,
   "metadata": {},
   "outputs": [
    {
     "data": {
      "text/html": [
       "<div>\n",
       "<style scoped>\n",
       "    .dataframe tbody tr th:only-of-type {\n",
       "        vertical-align: middle;\n",
       "    }\n",
       "\n",
       "    .dataframe tbody tr th {\n",
       "        vertical-align: top;\n",
       "    }\n",
       "\n",
       "    .dataframe thead th {\n",
       "        text-align: right;\n",
       "    }\n",
       "</style>\n",
       "<table border=\"1\" class=\"dataframe\">\n",
       "  <thead>\n",
       "    <tr style=\"text-align: right;\">\n",
       "      <th></th>\n",
       "      <th>rank</th>\n",
       "      <th>discipline</th>\n",
       "      <th>yrs.since.phd</th>\n",
       "      <th>yrs.service</th>\n",
       "      <th>sex</th>\n",
       "      <th>salary</th>\n",
       "    </tr>\n",
       "  </thead>\n",
       "  <tbody>\n",
       "    <tr>\n",
       "      <th>387</th>\n",
       "      <td>Prof</td>\n",
       "      <td>A</td>\n",
       "      <td>29</td>\n",
       "      <td>15</td>\n",
       "      <td>Male</td>\n",
       "      <td>109305</td>\n",
       "    </tr>\n",
       "    <tr>\n",
       "      <th>388</th>\n",
       "      <td>Prof</td>\n",
       "      <td>A</td>\n",
       "      <td>38</td>\n",
       "      <td>36</td>\n",
       "      <td>Male</td>\n",
       "      <td>119450</td>\n",
       "    </tr>\n",
       "    <tr>\n",
       "      <th>389</th>\n",
       "      <td>Prof</td>\n",
       "      <td>A</td>\n",
       "      <td>33</td>\n",
       "      <td>18</td>\n",
       "      <td>Male</td>\n",
       "      <td>186023</td>\n",
       "    </tr>\n",
       "    <tr>\n",
       "      <th>390</th>\n",
       "      <td>Prof</td>\n",
       "      <td>A</td>\n",
       "      <td>40</td>\n",
       "      <td>19</td>\n",
       "      <td>Male</td>\n",
       "      <td>166605</td>\n",
       "    </tr>\n",
       "    <tr>\n",
       "      <th>391</th>\n",
       "      <td>Prof</td>\n",
       "      <td>A</td>\n",
       "      <td>30</td>\n",
       "      <td>19</td>\n",
       "      <td>Male</td>\n",
       "      <td>151292</td>\n",
       "    </tr>\n",
       "    <tr>\n",
       "      <th>392</th>\n",
       "      <td>Prof</td>\n",
       "      <td>A</td>\n",
       "      <td>33</td>\n",
       "      <td>30</td>\n",
       "      <td>Male</td>\n",
       "      <td>103106</td>\n",
       "    </tr>\n",
       "    <tr>\n",
       "      <th>393</th>\n",
       "      <td>Prof</td>\n",
       "      <td>A</td>\n",
       "      <td>31</td>\n",
       "      <td>19</td>\n",
       "      <td>Male</td>\n",
       "      <td>150564</td>\n",
       "    </tr>\n",
       "    <tr>\n",
       "      <th>394</th>\n",
       "      <td>Prof</td>\n",
       "      <td>A</td>\n",
       "      <td>42</td>\n",
       "      <td>25</td>\n",
       "      <td>Male</td>\n",
       "      <td>101738</td>\n",
       "    </tr>\n",
       "    <tr>\n",
       "      <th>395</th>\n",
       "      <td>Prof</td>\n",
       "      <td>A</td>\n",
       "      <td>25</td>\n",
       "      <td>15</td>\n",
       "      <td>Male</td>\n",
       "      <td>95329</td>\n",
       "    </tr>\n",
       "    <tr>\n",
       "      <th>396</th>\n",
       "      <td>AsstProf</td>\n",
       "      <td>A</td>\n",
       "      <td>8</td>\n",
       "      <td>4</td>\n",
       "      <td>Male</td>\n",
       "      <td>81035</td>\n",
       "    </tr>\n",
       "  </tbody>\n",
       "</table>\n",
       "</div>"
      ],
      "text/plain": [
       "         rank discipline  yrs.since.phd  yrs.service   sex  salary\n",
       "387      Prof          A             29           15  Male  109305\n",
       "388      Prof          A             38           36  Male  119450\n",
       "389      Prof          A             33           18  Male  186023\n",
       "390      Prof          A             40           19  Male  166605\n",
       "391      Prof          A             30           19  Male  151292\n",
       "392      Prof          A             33           30  Male  103106\n",
       "393      Prof          A             31           19  Male  150564\n",
       "394      Prof          A             42           25  Male  101738\n",
       "395      Prof          A             25           15  Male   95329\n",
       "396  AsstProf          A              8            4  Male   81035"
      ]
     },
     "execution_count": 7,
     "metadata": {},
     "output_type": "execute_result"
    }
   ],
   "source": [
    "df.tail(10)"
   ]
  },
  {
   "cell_type": "code",
   "execution_count": 8,
   "metadata": {},
   "outputs": [
    {
     "data": {
      "text/html": [
       "<div>\n",
       "<style scoped>\n",
       "    .dataframe tbody tr th:only-of-type {\n",
       "        vertical-align: middle;\n",
       "    }\n",
       "\n",
       "    .dataframe tbody tr th {\n",
       "        vertical-align: top;\n",
       "    }\n",
       "\n",
       "    .dataframe thead th {\n",
       "        text-align: right;\n",
       "    }\n",
       "</style>\n",
       "<table border=\"1\" class=\"dataframe\">\n",
       "  <thead>\n",
       "    <tr style=\"text-align: right;\">\n",
       "      <th></th>\n",
       "      <th>rank</th>\n",
       "      <th>discipline</th>\n",
       "      <th>yrs.since.phd</th>\n",
       "      <th>yrs.service</th>\n",
       "      <th>sex</th>\n",
       "      <th>salary</th>\n",
       "    </tr>\n",
       "  </thead>\n",
       "  <tbody>\n",
       "    <tr>\n",
       "      <th>258</th>\n",
       "      <td>AsstProf</td>\n",
       "      <td>A</td>\n",
       "      <td>9</td>\n",
       "      <td>3</td>\n",
       "      <td>Male</td>\n",
       "      <td>73800</td>\n",
       "    </tr>\n",
       "    <tr>\n",
       "      <th>22</th>\n",
       "      <td>Prof</td>\n",
       "      <td>A</td>\n",
       "      <td>34</td>\n",
       "      <td>30</td>\n",
       "      <td>Male</td>\n",
       "      <td>93904</td>\n",
       "    </tr>\n",
       "    <tr>\n",
       "      <th>81</th>\n",
       "      <td>Prof</td>\n",
       "      <td>B</td>\n",
       "      <td>17</td>\n",
       "      <td>16</td>\n",
       "      <td>Male</td>\n",
       "      <td>135585</td>\n",
       "    </tr>\n",
       "    <tr>\n",
       "      <th>136</th>\n",
       "      <td>Prof</td>\n",
       "      <td>A</td>\n",
       "      <td>16</td>\n",
       "      <td>14</td>\n",
       "      <td>Male</td>\n",
       "      <td>108262</td>\n",
       "    </tr>\n",
       "    <tr>\n",
       "      <th>269</th>\n",
       "      <td>Prof</td>\n",
       "      <td>A</td>\n",
       "      <td>13</td>\n",
       "      <td>7</td>\n",
       "      <td>Male</td>\n",
       "      <td>103700</td>\n",
       "    </tr>\n",
       "  </tbody>\n",
       "</table>\n",
       "</div>"
      ],
      "text/plain": [
       "         rank discipline  yrs.since.phd  yrs.service   sex  salary\n",
       "258  AsstProf          A              9            3  Male   73800\n",
       "22       Prof          A             34           30  Male   93904\n",
       "81       Prof          B             17           16  Male  135585\n",
       "136      Prof          A             16           14  Male  108262\n",
       "269      Prof          A             13            7  Male  103700"
      ]
     },
     "execution_count": 8,
     "metadata": {},
     "output_type": "execute_result"
    }
   ],
   "source": [
    "df.sample(5)"
   ]
  },
  {
   "cell_type": "code",
   "execution_count": 9,
   "metadata": {},
   "outputs": [
    {
     "data": {
      "text/plain": [
       "Index(['rank', 'discipline', 'yrs.since.phd', 'yrs.service', 'sex', 'salary'], dtype='object')"
      ]
     },
     "execution_count": 9,
     "metadata": {},
     "output_type": "execute_result"
    }
   ],
   "source": [
    "df.columns"
   ]
  },
  {
   "cell_type": "markdown",
   "metadata": {},
   "source": [
    "# About the columns:"
   ]
  },
  {
   "cell_type": "markdown",
   "metadata": {},
   "source": [
    "# EDA"
   ]
  },
  {
   "cell_type": "code",
   "execution_count": 10,
   "metadata": {},
   "outputs": [
    {
     "data": {
      "text/plain": [
       "rank             0\n",
       "discipline       0\n",
       "yrs.since.phd    0\n",
       "yrs.service      0\n",
       "sex              0\n",
       "salary           0\n",
       "dtype: int64"
      ]
     },
     "execution_count": 10,
     "metadata": {},
     "output_type": "execute_result"
    }
   ],
   "source": [
    "df.isnull().sum()"
   ]
  },
  {
   "cell_type": "markdown",
   "metadata": {},
   "source": [
    "# ScatterPlot:"
   ]
  },
  {
   "cell_type": "code",
   "execution_count": 11,
   "metadata": {},
   "outputs": [],
   "source": [
    "import seaborn as sns"
   ]
  },
  {
   "cell_type": "code",
   "execution_count": 12,
   "metadata": {},
   "outputs": [
    {
     "data": {
      "text/plain": [
       "<matplotlib.axes._subplots.AxesSubplot at 0x1a847f8e808>"
      ]
     },
     "execution_count": 12,
     "metadata": {},
     "output_type": "execute_result"
    },
    {
     "data": {
      "image/png": "[encoded data removed]",
      "text/plain": [
       "<Figure size 432x288 with 1 Axes>"
      ]
     },
     "metadata": {
      "needs_background": "light"
     },
     "output_type": "display_data"
    }
   ],
   "source": [
    "sns.scatterplot(x='rank',y='salary',data=df)"
   ]
  },
  {
   "cell_type": "code",
   "execution_count": 13,
   "metadata": {},
   "outputs": [
    {
     "data": {
      "text/plain": [
       "<matplotlib.axes._subplots.AxesSubplot at 0x1a849c00dc8>"
      ]
     },
     "execution_count": 13,
     "metadata": {},
     "output_type": "execute_result"
    },
    {
     "data": {
      "image/png": "[encoded data removed]",
      "text/plain": [
       "<Figure size 432x288 with 1 Axes>"
      ]
     },
     "metadata": {
      "needs_background": "light"
     },
     "output_type": "display_data"
    }
   ],
   "source": [
    "sns.scatterplot(x='discipline',y='salary',data=df)"
   ]
  },
  {
   "cell_type": "code",
   "execution_count": 15,
   "metadata": {},
   "outputs": [
    {
     "data": {
      "text/plain": [
       "<matplotlib.axes._subplots.AxesSubplot at 0x1a849d90488>"
      ]
     },
     "execution_count": 15,
     "metadata": {},
     "output_type": "execute_result"
    },
    {
     "data": {
      "image/png": "[encoded data removed]",
      "text/plain": [
       "<Figure size 432x288 with 1 Axes>"
      ]
     },
     "metadata": {
      "needs_background": "light"
     },
     "output_type": "display_data"
    }
   ],
   "source": [
    "sns.scatterplot(x='yrs.since.phd',y='salary',data=df)"
   ]
  },
  {
   "cell_type": "code",
   "execution_count": 17,
   "metadata": {},
   "outputs": [
    {
     "data": {
      "text/plain": [
       "<matplotlib.axes._subplots.AxesSubplot at 0x1a849e11f48>"
      ]
     },
     "execution_count": 17,
     "metadata": {},
     "output_type": "execute_result"
    },
    {
     "data": {
      "image/png": "[encoded data removed]",
      "text/plain": [
       "<Figure size 432x288 with 1 Axes>"
      ]
     },
     "metadata": {
      "needs_background": "light"
     },
     "output_type": "display_data"
    }
   ],
   "source": [
    "sns.scatterplot(x='yrs.service',y='salary',data=df)"
   ]
  },
  {
   "cell_type": "code",
   "execution_count": 18,
   "metadata": {},
   "outputs": [
    {
     "data": {
      "text/plain": [
       "<matplotlib.axes._subplots.AxesSubplot at 0x1a849e6b2c8>"
      ]
     },
     "execution_count": 18,
     "metadata": {},
     "output_type": "execute_result"
    },
    {
     "data": {
      "image/png": "[encoded data removed]",
      "text/plain": [
       "<Figure size 432x288 with 1 Axes>"
      ]
     },
     "metadata": {
      "needs_background": "light"
     },
     "output_type": "display_data"
    }
   ],
   "source": [
    "sns.scatterplot(x='sex',y='salary',data=df)"
   ]
  },
  {
   "cell_type": "code",
   "execution_count": 19,
   "metadata": {},
   "outputs": [
    {
     "data": {
      "text/plain": [
       "<seaborn.axisgrid.PairGrid at 0x1a849ec5248>"
      ]
     },
     "execution_count": 19,
     "metadata": {},
     "output_type": "execute_result"
    },
    {
     "data": {
      "image/png": "[encoded data removed]",
      "text/plain": [
       "<Figure size 540x540 with 12 Axes>"
      ]
     },
     "metadata": {
      "needs_background": "light"
     },
     "output_type": "display_data"
    }
   ],
   "source": [
    "sns.pairplot(df)"
   ]
  },
  {
   "cell_type": "markdown",
   "metadata": {},
   "source": [
    "#    Correlation"
   ]
  },
  {
   "cell_type": "code",
   "execution_count": 20,
   "metadata": {},
   "outputs": [
    {
     "data": {
      "text/html": [
       "<div>\n",
       "<style scoped>\n",
       "    .dataframe tbody tr th:only-of-type {\n",
       "        vertical-align: middle;\n",
       "    }\n",
       "\n",
       "    .dataframe tbody tr th {\n",
       "        vertical-align: top;\n",
       "    }\n",
       "\n",
       "    .dataframe thead th {\n",
       "        text-align: right;\n",
       "    }\n",
       "</style>\n",
       "<table border=\"1\" class=\"dataframe\">\n",
       "  <thead>\n",
       "    <tr style=\"text-align: right;\">\n",
       "      <th></th>\n",
       "      <th>yrs.since.phd</th>\n",
       "      <th>yrs.service</th>\n",
       "      <th>salary</th>\n",
       "    </tr>\n",
       "  </thead>\n",
       "  <tbody>\n",
       "    <tr>\n",
       "      <th>yrs.since.phd</th>\n",
       "      <td>1.000000</td>\n",
       "      <td>0.909649</td>\n",
       "      <td>0.419231</td>\n",
       "    </tr>\n",
       "    <tr>\n",
       "      <th>yrs.service</th>\n",
       "      <td>0.909649</td>\n",
       "      <td>1.000000</td>\n",
       "      <td>0.334745</td>\n",
       "    </tr>\n",
       "    <tr>\n",
       "      <th>salary</th>\n",
       "      <td>0.419231</td>\n",
       "      <td>0.334745</td>\n",
       "      <td>1.000000</td>\n",
       "    </tr>\n",
       "  </tbody>\n",
       "</table>\n",
       "</div>"
      ],
      "text/plain": [
       "               yrs.since.phd  yrs.service    salary\n",
       "yrs.since.phd       1.000000     0.909649  0.419231\n",
       "yrs.service         0.909649     1.000000  0.334745\n",
       "salary              0.419231     0.334745  1.000000"
      ]
     },
     "execution_count": 20,
     "metadata": {},
     "output_type": "execute_result"
    }
   ],
   "source": [
    "df.corr()"
   ]
  },
  {
   "cell_type": "code",
   "execution_count": 22,
   "metadata": {},
   "outputs": [
    {
     "data": {
      "text/plain": [
       "yrs.service      0.334745\n",
       "yrs.since.phd    0.419231\n",
       "salary           1.000000\n",
       "Name: salary, dtype: float64"
      ]
     },
     "execution_count": 22,
     "metadata": {},
     "output_type": "execute_result"
    }
   ],
   "source": [
    "df.corr()['salary'].sort_values()"
   ]
  },
  {
   "cell_type": "code",
   "execution_count": 24,
   "metadata": {},
   "outputs": [
    {
     "data": {
      "text/plain": [
       "<matplotlib.axes._subplots.AxesSubplot at 0x1a84e7c9a48>"
      ]
     },
     "execution_count": 24,
     "metadata": {},
     "output_type": "execute_result"
    },
    {
     "data": {
      "image/png": "[encoded data removed]",
      "text/plain": [
       "<Figure size 1080x360 with 2 Axes>"
      ]
     },
     "metadata": {
      "needs_background": "light"
     },
     "output_type": "display_data"
    }
   ],
   "source": [
    "import matplotlib.pyplot as plt\n",
    "plt.figure(figsize=(15,5))\n",
    "sns.heatmap(df.corr(),annot=True,fmt='.2f')"
   ]
  },
  {
   "cell_type": "markdown",
   "metadata": {},
   "source": [
    "# Outcome of the correlation"
   ]
  },
  {
   "cell_type": "markdown",
   "metadata": {},
   "source": [
    " All the columns of the datasets is postively correlated with the target column (Outcome)"
   ]
  },
  {
   "cell_type": "markdown",
   "metadata": {},
   "source": [
    "# Descriptive Statistics"
   ]
  },
  {
   "cell_type": "markdown",
   "metadata": {},
   "source": [
    "Describing data sets"
   ]
  },
  {
   "cell_type": "code",
   "execution_count": 25,
   "metadata": {},
   "outputs": [
    {
     "data": {
      "text/html": [
       "<div>\n",
       "<style scoped>\n",
       "    .dataframe tbody tr th:only-of-type {\n",
       "        vertical-align: middle;\n",
       "    }\n",
       "\n",
       "    .dataframe tbody tr th {\n",
       "        vertical-align: top;\n",
       "    }\n",
       "\n",
       "    .dataframe thead th {\n",
       "        text-align: right;\n",
       "    }\n",
       "</style>\n",
       "<table border=\"1\" class=\"dataframe\">\n",
       "  <thead>\n",
       "    <tr style=\"text-align: right;\">\n",
       "      <th></th>\n",
       "      <th>yrs.since.phd</th>\n",
       "      <th>yrs.service</th>\n",
       "      <th>salary</th>\n",
       "    </tr>\n",
       "  </thead>\n",
       "  <tbody>\n",
       "    <tr>\n",
       "      <th>count</th>\n",
       "      <td>397.000000</td>\n",
       "      <td>397.000000</td>\n",
       "      <td>397.000000</td>\n",
       "    </tr>\n",
       "    <tr>\n",
       "      <th>mean</th>\n",
       "      <td>22.314861</td>\n",
       "      <td>17.614610</td>\n",
       "      <td>113706.458438</td>\n",
       "    </tr>\n",
       "    <tr>\n",
       "      <th>std</th>\n",
       "      <td>12.887003</td>\n",
       "      <td>13.006024</td>\n",
       "      <td>30289.038695</td>\n",
       "    </tr>\n",
       "    <tr>\n",
       "      <th>min</th>\n",
       "      <td>1.000000</td>\n",
       "      <td>0.000000</td>\n",
       "      <td>57800.000000</td>\n",
       "    </tr>\n",
       "    <tr>\n",
       "      <th>25%</th>\n",
       "      <td>12.000000</td>\n",
       "      <td>7.000000</td>\n",
       "      <td>91000.000000</td>\n",
       "    </tr>\n",
       "    <tr>\n",
       "      <th>50%</th>\n",
       "      <td>21.000000</td>\n",
       "      <td>16.000000</td>\n",
       "      <td>107300.000000</td>\n",
       "    </tr>\n",
       "    <tr>\n",
       "      <th>75%</th>\n",
       "      <td>32.000000</td>\n",
       "      <td>27.000000</td>\n",
       "      <td>134185.000000</td>\n",
       "    </tr>\n",
       "    <tr>\n",
       "      <th>max</th>\n",
       "      <td>56.000000</td>\n",
       "      <td>60.000000</td>\n",
       "      <td>231545.000000</td>\n",
       "    </tr>\n",
       "  </tbody>\n",
       "</table>\n",
       "</div>"
      ],
      "text/plain": [
       "       yrs.since.phd  yrs.service         salary\n",
       "count     397.000000   397.000000     397.000000\n",
       "mean       22.314861    17.614610  113706.458438\n",
       "std        12.887003    13.006024   30289.038695\n",
       "min         1.000000     0.000000   57800.000000\n",
       "25%        12.000000     7.000000   91000.000000\n",
       "50%        21.000000    16.000000  107300.000000\n",
       "75%        32.000000    27.000000  134185.000000\n",
       "max        56.000000    60.000000  231545.000000"
      ]
     },
     "execution_count": 25,
     "metadata": {},
     "output_type": "execute_result"
    }
   ],
   "source": [
    "df.describe()"
   ]
  },
  {
   "cell_type": "code",
   "execution_count": 31,
   "metadata": {},
   "outputs": [
    {
     "data": {
      "image/png": "[encoded data removed]",
      "text/plain": [
       "<Figure size 1080x360 with 2 Axes>"
      ]
     },
     "metadata": {
      "needs_background": "light"
     },
     "output_type": "display_data"
    }
   ],
   "source": [
    "plt.figure(figsize=(15,5))\n",
    "sns.heatmap(round(df.describe()[1:].transpose(),2),linewidth=2,annot=True,fmt='f')\n",
    "plt.xticks(fontsize=18)\n",
    "plt.yticks(fontsize=12)\n",
    "plt.title('Variable Summary')\n",
    "plt.show()"
   ]
  },
  {
   "cell_type": "code",
   "execution_count": 32,
   "metadata": {},
   "outputs": [
    {
     "name": "stdout",
     "output_type": "stream",
     "text": [
      "<class 'pandas.core.frame.DataFrame'>\n",
      "RangeIndex: 397 entries, 0 to 396\n",
      "Data columns (total 6 columns):\n",
      " #   Column         Non-Null Count  Dtype \n",
      "---  ------         --------------  ----- \n",
      " 0   rank           397 non-null    object\n",
      " 1   discipline     397 non-null    object\n",
      " 2   yrs.since.phd  397 non-null    int64 \n",
      " 3   yrs.service    397 non-null    int64 \n",
      " 4   sex            397 non-null    object\n",
      " 5   salary         397 non-null    int64 \n",
      "dtypes: int64(3), object(3)\n",
      "memory usage: 18.7+ KB\n"
     ]
    }
   ],
   "source": [
    "df.info()"
   ]
  },
  {
   "cell_type": "markdown",
   "metadata": {},
   "source": [
    "# Outlier Checking"
   ]
  },
  {
   "cell_type": "code",
   "execution_count": 33,
   "metadata": {},
   "outputs": [],
   "source": [
    "import warnings\n",
    "warnings.filterwarnings('ignore')"
   ]
  },
  {
   "cell_type": "code",
   "execution_count": 56,
   "metadata": {},
   "outputs": [
    {
     "data": {
      "text/html": [
       "<div>\n",
       "<style scoped>\n",
       "    .dataframe tbody tr th:only-of-type {\n",
       "        vertical-align: middle;\n",
       "    }\n",
       "\n",
       "    .dataframe tbody tr th {\n",
       "        vertical-align: top;\n",
       "    }\n",
       "\n",
       "    .dataframe thead th {\n",
       "        text-align: right;\n",
       "    }\n",
       "</style>\n",
       "<table border=\"1\" class=\"dataframe\">\n",
       "  <thead>\n",
       "    <tr style=\"text-align: right;\">\n",
       "      <th></th>\n",
       "      <th>yrs.since.phd</th>\n",
       "      <th>yrs.service</th>\n",
       "      <th>salary</th>\n",
       "    </tr>\n",
       "  </thead>\n",
       "  <tbody>\n",
       "    <tr>\n",
       "      <th>0</th>\n",
       "      <td>19</td>\n",
       "      <td>18</td>\n",
       "      <td>139750</td>\n",
       "    </tr>\n",
       "    <tr>\n",
       "      <th>1</th>\n",
       "      <td>20</td>\n",
       "      <td>16</td>\n",
       "      <td>173200</td>\n",
       "    </tr>\n",
       "    <tr>\n",
       "      <th>2</th>\n",
       "      <td>4</td>\n",
       "      <td>3</td>\n",
       "      <td>79750</td>\n",
       "    </tr>\n",
       "    <tr>\n",
       "      <th>3</th>\n",
       "      <td>45</td>\n",
       "      <td>39</td>\n",
       "      <td>115000</td>\n",
       "    </tr>\n",
       "    <tr>\n",
       "      <th>4</th>\n",
       "      <td>40</td>\n",
       "      <td>41</td>\n",
       "      <td>141500</td>\n",
       "    </tr>\n",
       "    <tr>\n",
       "      <th>...</th>\n",
       "      <td>...</td>\n",
       "      <td>...</td>\n",
       "      <td>...</td>\n",
       "    </tr>\n",
       "    <tr>\n",
       "      <th>392</th>\n",
       "      <td>33</td>\n",
       "      <td>30</td>\n",
       "      <td>103106</td>\n",
       "    </tr>\n",
       "    <tr>\n",
       "      <th>393</th>\n",
       "      <td>31</td>\n",
       "      <td>19</td>\n",
       "      <td>150564</td>\n",
       "    </tr>\n",
       "    <tr>\n",
       "      <th>394</th>\n",
       "      <td>42</td>\n",
       "      <td>25</td>\n",
       "      <td>101738</td>\n",
       "    </tr>\n",
       "    <tr>\n",
       "      <th>395</th>\n",
       "      <td>25</td>\n",
       "      <td>15</td>\n",
       "      <td>95329</td>\n",
       "    </tr>\n",
       "    <tr>\n",
       "      <th>396</th>\n",
       "      <td>8</td>\n",
       "      <td>4</td>\n",
       "      <td>81035</td>\n",
       "    </tr>\n",
       "  </tbody>\n",
       "</table>\n",
       "<p>397 rows × 3 columns</p>\n",
       "</div>"
      ],
      "text/plain": [
       "     yrs.since.phd  yrs.service  salary\n",
       "0               19           18  139750\n",
       "1               20           16  173200\n",
       "2                4            3   79750\n",
       "3               45           39  115000\n",
       "4               40           41  141500\n",
       "..             ...          ...     ...\n",
       "392             33           30  103106\n",
       "393             31           19  150564\n",
       "394             42           25  101738\n",
       "395             25           15   95329\n",
       "396              8            4   81035\n",
       "\n",
       "[397 rows x 3 columns]"
      ]
     },
     "execution_count": 56,
     "metadata": {},
     "output_type": "execute_result"
    }
   ],
   "source": [
    "df1=df.drop(['rank','discipline','sex'],axis=1)\n",
    "df1"
   ]
  },
  {
   "cell_type": "code",
   "execution_count": 57,
   "metadata": {},
   "outputs": [
    {
     "data": {
      "image/png": "[encoded data removed]",
      "text/plain": [
       "<Figure size 2160x6480 with 3 Axes>"
      ]
     },
     "metadata": {
      "needs_background": "light"
     },
     "output_type": "display_data"
    }
   ],
   "source": [
    "collist=df1.columns.values\n",
    "ncol=30\n",
    "nrows=14\n",
    "plt.figure(figsize=(ncol,3*ncol))\n",
    "for i in range (0,len(collist)):\n",
    "    plt.subplot(nrows,ncol,i+1)\n",
    "    sns.boxplot(df[collist[i]],color='green',orient='v')\n",
    "    plt.tight_layout()"
   ]
  },
  {
   "cell_type": "markdown",
   "metadata": {},
   "source": [
    "# Skewness"
   ]
  },
  {
   "cell_type": "code",
   "execution_count": 46,
   "metadata": {},
   "outputs": [
    {
     "data": {
      "text/plain": [
       "yrs.since.phd    0.300880\n",
       "yrs.service      0.650569\n",
       "salary           0.714568\n",
       "dtype: float64"
      ]
     },
     "execution_count": 46,
     "metadata": {},
     "output_type": "execute_result"
    }
   ],
   "source": [
    "df.skew()"
   ]
  },
  {
   "cell_type": "markdown",
   "metadata": {},
   "source": [
    "# Normal Distribution Curve"
   ]
  },
  {
   "cell_type": "code",
   "execution_count": 48,
   "metadata": {},
   "outputs": [
    {
     "data": {
      "text/plain": [
       "<matplotlib.axes._subplots.AxesSubplot at 0x1a84f982ac8>"
      ]
     },
     "execution_count": 48,
     "metadata": {},
     "output_type": "execute_result"
    },
    {
     "data": {
      "image/png": "[encoded data removed]",
      "text/plain": [
       "<Figure size 432x288 with 1 Axes>"
      ]
     },
     "metadata": {
      "needs_background": "light"
     },
     "output_type": "display_data"
    }
   ],
   "source": [
    "sns.distplot(df['yrs.since.phd'])"
   ]
  },
  {
   "cell_type": "code",
   "execution_count": 52,
   "metadata": {},
   "outputs": [
    {
     "data": {
      "text/plain": [
       "<matplotlib.axes._subplots.AxesSubplot at 0x1a84fb13c88>"
      ]
     },
     "execution_count": 52,
     "metadata": {},
     "output_type": "execute_result"
    },
    {
     "data": {
      "image/png": "[encoded data removed]",
      "text/plain": [
       "<Figure size 432x288 with 1 Axes>"
      ]
     },
     "metadata": {
      "needs_background": "light"
     },
     "output_type": "display_data"
    }
   ],
   "source": [
    "sns.distplot(df['yrs.service'])"
   ]
  },
  {
   "cell_type": "code",
   "execution_count": 53,
   "metadata": {},
   "outputs": [
    {
     "data": {
      "text/plain": [
       "<matplotlib.axes._subplots.AxesSubplot at 0x1a84fb927c8>"
      ]
     },
     "execution_count": 53,
     "metadata": {},
     "output_type": "execute_result"
    },
    {
     "data": {
      "image/png": "[encoded data removed]",
      "text/plain": [
       "<Figure size 432x288 with 1 Axes>"
      ]
     },
     "metadata": {
      "needs_background": "light"
     },
     "output_type": "display_data"
    }
   ],
   "source": [
    "sns.distplot(df['salary'])"
   ]
  },
  {
   "cell_type": "markdown",
   "metadata": {},
   "source": [
    "# The normal distribution shows that the data is skewed"
   ]
  },
  {
   "cell_type": "markdown",
   "metadata": {},
   "source": [
    "# Data Cleaning:"
   ]
  },
  {
   "cell_type": "code",
   "execution_count": 54,
   "metadata": {},
   "outputs": [
    {
     "data": {
      "text/plain": [
       "yrs.since.phd    0.419231\n",
       "yrs.service      0.334745\n",
       "salary           1.000000\n",
       "Name: salary, dtype: float64"
      ]
     },
     "execution_count": 54,
     "metadata": {},
     "output_type": "execute_result"
    }
   ],
   "source": [
    "df.corr()['salary']"
   ]
  },
  {
   "cell_type": "markdown",
   "metadata": {},
   "source": [
    "no need to drop any columns as there is not much skewness"
   ]
  },
  {
   "cell_type": "markdown",
   "metadata": {},
   "source": [
    "# Removing Outlier"
   ]
  },
  {
   "cell_type": "code",
   "execution_count": 60,
   "metadata": {},
   "outputs": [
    {
     "data": {
      "text/plain": [
       "(397, 3)"
      ]
     },
     "execution_count": 60,
     "metadata": {},
     "output_type": "execute_result"
    }
   ],
   "source": [
    "from scipy.stats import zscore\n",
    "import numpy as np\n",
    "z=np.abs(zscore(df1))#abs absolute function is like mod\n",
    "z.shape"
   ]
  },
  {
   "cell_type": "code",
   "execution_count": 64,
   "metadata": {},
   "outputs": [
    {
     "name": "stdout",
     "output_type": "stream",
     "text": [
      "(array([  6,   7,  43,  71,  77, 125, 125, 131, 131, 161, 169, 190, 194,\n",
      "       198, 249, 261, 268, 271, 276, 276, 279, 282, 282, 285, 285, 290,\n",
      "       292, 298, 304, 317, 330, 330, 330, 350, 350, 350, 356, 364, 383,\n",
      "       389], dtype=int64), array([2, 1, 2, 1, 2, 0, 1, 0, 1, 2, 2, 2, 1, 2, 2, 1, 1, 2, 0, 1, 1, 0,\n",
      "       1, 0, 1, 2, 2, 0, 1, 1, 0, 1, 2, 0, 1, 2, 0, 2, 1, 2], dtype=int64))\n"
     ]
    }
   ],
   "source": [
    "print(np.where(z>2))"
   ]
  },
  {
   "cell_type": "code",
   "execution_count": 65,
   "metadata": {},
   "outputs": [
    {
     "data": {
      "text/html": [
       "<div>\n",
       "<style scoped>\n",
       "    .dataframe tbody tr th:only-of-type {\n",
       "        vertical-align: middle;\n",
       "    }\n",
       "\n",
       "    .dataframe tbody tr th {\n",
       "        vertical-align: top;\n",
       "    }\n",
       "\n",
       "    .dataframe thead th {\n",
       "        text-align: right;\n",
       "    }\n",
       "</style>\n",
       "<table border=\"1\" class=\"dataframe\">\n",
       "  <thead>\n",
       "    <tr style=\"text-align: right;\">\n",
       "      <th></th>\n",
       "      <th>rank</th>\n",
       "      <th>discipline</th>\n",
       "      <th>yrs.since.phd</th>\n",
       "      <th>yrs.service</th>\n",
       "      <th>sex</th>\n",
       "      <th>salary</th>\n",
       "    </tr>\n",
       "  </thead>\n",
       "  <tbody>\n",
       "    <tr>\n",
       "      <th>0</th>\n",
       "      <td>Prof</td>\n",
       "      <td>B</td>\n",
       "      <td>19</td>\n",
       "      <td>18</td>\n",
       "      <td>Male</td>\n",
       "      <td>139750</td>\n",
       "    </tr>\n",
       "    <tr>\n",
       "      <th>1</th>\n",
       "      <td>Prof</td>\n",
       "      <td>B</td>\n",
       "      <td>20</td>\n",
       "      <td>16</td>\n",
       "      <td>Male</td>\n",
       "      <td>173200</td>\n",
       "    </tr>\n",
       "    <tr>\n",
       "      <th>2</th>\n",
       "      <td>AsstProf</td>\n",
       "      <td>B</td>\n",
       "      <td>4</td>\n",
       "      <td>3</td>\n",
       "      <td>Male</td>\n",
       "      <td>79750</td>\n",
       "    </tr>\n",
       "    <tr>\n",
       "      <th>3</th>\n",
       "      <td>Prof</td>\n",
       "      <td>B</td>\n",
       "      <td>45</td>\n",
       "      <td>39</td>\n",
       "      <td>Male</td>\n",
       "      <td>115000</td>\n",
       "    </tr>\n",
       "    <tr>\n",
       "      <th>4</th>\n",
       "      <td>Prof</td>\n",
       "      <td>B</td>\n",
       "      <td>40</td>\n",
       "      <td>41</td>\n",
       "      <td>Male</td>\n",
       "      <td>141500</td>\n",
       "    </tr>\n",
       "    <tr>\n",
       "      <th>...</th>\n",
       "      <td>...</td>\n",
       "      <td>...</td>\n",
       "      <td>...</td>\n",
       "      <td>...</td>\n",
       "      <td>...</td>\n",
       "      <td>...</td>\n",
       "    </tr>\n",
       "    <tr>\n",
       "      <th>392</th>\n",
       "      <td>Prof</td>\n",
       "      <td>A</td>\n",
       "      <td>33</td>\n",
       "      <td>30</td>\n",
       "      <td>Male</td>\n",
       "      <td>103106</td>\n",
       "    </tr>\n",
       "    <tr>\n",
       "      <th>393</th>\n",
       "      <td>Prof</td>\n",
       "      <td>A</td>\n",
       "      <td>31</td>\n",
       "      <td>19</td>\n",
       "      <td>Male</td>\n",
       "      <td>150564</td>\n",
       "    </tr>\n",
       "    <tr>\n",
       "      <th>394</th>\n",
       "      <td>Prof</td>\n",
       "      <td>A</td>\n",
       "      <td>42</td>\n",
       "      <td>25</td>\n",
       "      <td>Male</td>\n",
       "      <td>101738</td>\n",
       "    </tr>\n",
       "    <tr>\n",
       "      <th>395</th>\n",
       "      <td>Prof</td>\n",
       "      <td>A</td>\n",
       "      <td>25</td>\n",
       "      <td>15</td>\n",
       "      <td>Male</td>\n",
       "      <td>95329</td>\n",
       "    </tr>\n",
       "    <tr>\n",
       "      <th>396</th>\n",
       "      <td>AsstProf</td>\n",
       "      <td>A</td>\n",
       "      <td>8</td>\n",
       "      <td>4</td>\n",
       "      <td>Male</td>\n",
       "      <td>81035</td>\n",
       "    </tr>\n",
       "  </tbody>\n",
       "</table>\n",
       "<p>366 rows × 6 columns</p>\n",
       "</div>"
      ],
      "text/plain": [
       "         rank discipline  yrs.since.phd  yrs.service   sex  salary\n",
       "0        Prof          B             19           18  Male  139750\n",
       "1        Prof          B             20           16  Male  173200\n",
       "2    AsstProf          B              4            3  Male   79750\n",
       "3        Prof          B             45           39  Male  115000\n",
       "4        Prof          B             40           41  Male  141500\n",
       "..        ...        ...            ...          ...   ...     ...\n",
       "392      Prof          A             33           30  Male  103106\n",
       "393      Prof          A             31           19  Male  150564\n",
       "394      Prof          A             42           25  Male  101738\n",
       "395      Prof          A             25           15  Male   95329\n",
       "396  AsstProf          A              8            4  Male   81035\n",
       "\n",
       "[366 rows x 6 columns]"
      ]
     },
     "execution_count": 65,
     "metadata": {},
     "output_type": "execute_result"
    }
   ],
   "source": [
    "df.drop([6,   7,  43,  71,  77, 125, 125, 131, 131, 161, 169, 190, 194,\n",
    "       198, 249, 261, 268, 271, 276, 276, 279, 282, 282, 285, 285, 290,\n",
    "       292, 298, 304, 317, 330, 330, 330, 350, 350, 350, 356, 364, 383,\n",
    "       389])"
   ]
  },
  {
   "cell_type": "code",
   "execution_count": 66,
   "metadata": {},
   "outputs": [
    {
     "name": "stdout",
     "output_type": "stream",
     "text": [
      "Old DataFrame (397, 6)\n",
      "New DataFrame (366, 6)\n",
      "Total Dropped Rows 31\n"
     ]
    }
   ],
   "source": [
    "df_new=df[(z<2).all(axis=1)]\n",
    "print('Old DataFrame',df.shape)\n",
    "print('New DataFrame',df_new.shape)\n",
    "print('Total Dropped Rows',df.shape[0]-df_new.shape[0])"
   ]
  },
  {
   "cell_type": "markdown",
   "metadata": {},
   "source": [
    "# Percentage Data Loss:"
   ]
  },
  {
   "cell_type": "code",
   "execution_count": 67,
   "metadata": {},
   "outputs": [
    {
     "name": "stdout",
     "output_type": "stream",
     "text": [
      "6.770833333333333 %\n"
     ]
    }
   ],
   "source": [
    "loss_percent=(768-716)/768*100\n",
    "print(loss_percent,'%')"
   ]
  },
  {
   "cell_type": "markdown",
   "metadata": {},
   "source": [
    "# Dividing Data in features and vectors"
   ]
  },
  {
   "cell_type": "code",
   "execution_count": 87,
   "metadata": {},
   "outputs": [
    {
     "data": {
      "text/html": [
       "<div>\n",
       "<style scoped>\n",
       "    .dataframe tbody tr th:only-of-type {\n",
       "        vertical-align: middle;\n",
       "    }\n",
       "\n",
       "    .dataframe tbody tr th {\n",
       "        vertical-align: top;\n",
       "    }\n",
       "\n",
       "    .dataframe thead th {\n",
       "        text-align: right;\n",
       "    }\n",
       "</style>\n",
       "<table border=\"1\" class=\"dataframe\">\n",
       "  <thead>\n",
       "    <tr style=\"text-align: right;\">\n",
       "      <th></th>\n",
       "      <th>yrs.since.phd</th>\n",
       "      <th>yrs.service</th>\n",
       "      <th>salary</th>\n",
       "    </tr>\n",
       "  </thead>\n",
       "  <tbody>\n",
       "    <tr>\n",
       "      <th>0</th>\n",
       "      <td>19</td>\n",
       "      <td>18</td>\n",
       "      <td>139750</td>\n",
       "    </tr>\n",
       "    <tr>\n",
       "      <th>1</th>\n",
       "      <td>20</td>\n",
       "      <td>16</td>\n",
       "      <td>173200</td>\n",
       "    </tr>\n",
       "    <tr>\n",
       "      <th>2</th>\n",
       "      <td>4</td>\n",
       "      <td>3</td>\n",
       "      <td>79750</td>\n",
       "    </tr>\n",
       "    <tr>\n",
       "      <th>3</th>\n",
       "      <td>45</td>\n",
       "      <td>39</td>\n",
       "      <td>115000</td>\n",
       "    </tr>\n",
       "    <tr>\n",
       "      <th>4</th>\n",
       "      <td>40</td>\n",
       "      <td>41</td>\n",
       "      <td>141500</td>\n",
       "    </tr>\n",
       "    <tr>\n",
       "      <th>...</th>\n",
       "      <td>...</td>\n",
       "      <td>...</td>\n",
       "      <td>...</td>\n",
       "    </tr>\n",
       "    <tr>\n",
       "      <th>392</th>\n",
       "      <td>33</td>\n",
       "      <td>30</td>\n",
       "      <td>103106</td>\n",
       "    </tr>\n",
       "    <tr>\n",
       "      <th>393</th>\n",
       "      <td>31</td>\n",
       "      <td>19</td>\n",
       "      <td>150564</td>\n",
       "    </tr>\n",
       "    <tr>\n",
       "      <th>394</th>\n",
       "      <td>42</td>\n",
       "      <td>25</td>\n",
       "      <td>101738</td>\n",
       "    </tr>\n",
       "    <tr>\n",
       "      <th>395</th>\n",
       "      <td>25</td>\n",
       "      <td>15</td>\n",
       "      <td>95329</td>\n",
       "    </tr>\n",
       "    <tr>\n",
       "      <th>396</th>\n",
       "      <td>8</td>\n",
       "      <td>4</td>\n",
       "      <td>81035</td>\n",
       "    </tr>\n",
       "  </tbody>\n",
       "</table>\n",
       "<p>366 rows × 3 columns</p>\n",
       "</div>"
      ],
      "text/plain": [
       "     yrs.since.phd  yrs.service  salary\n",
       "0               19           18  139750\n",
       "1               20           16  173200\n",
       "2                4            3   79750\n",
       "3               45           39  115000\n",
       "4               40           41  141500\n",
       "..             ...          ...     ...\n",
       "392             33           30  103106\n",
       "393             31           19  150564\n",
       "394             42           25  101738\n",
       "395             25           15   95329\n",
       "396              8            4   81035\n",
       "\n",
       "[366 rows x 3 columns]"
      ]
     },
     "execution_count": 87,
     "metadata": {},
     "output_type": "execute_result"
    }
   ],
   "source": [
    "df_new1=df_new.drop(['rank','discipline','sex'],axis=1)\n",
    "df_new1"
   ]
  },
  {
   "cell_type": "code",
   "execution_count": 88,
   "metadata": {},
   "outputs": [],
   "source": [
    "x=df_new1.iloc[:,:-1]\n",
    "y=df_new1.iloc[:,-1]"
   ]
  },
  {
   "cell_type": "markdown",
   "metadata": {},
   "source": [
    "# Transforming data to remove skewness"
   ]
  },
  {
   "cell_type": "code",
   "execution_count": 89,
   "metadata": {},
   "outputs": [
    {
     "data": {
      "text/plain": [
       "array([[-0.02247658,  0.35407239],\n",
       "       [ 0.06080119,  0.1976052 ],\n",
       "       [-1.59322145, -1.25407592],\n",
       "       [ 1.80473087,  1.63348163],\n",
       "       [ 1.49353751,  1.73351561],\n",
       "       [-1.32447652, -0.80267646],\n",
       "       [ 0.14255613,  0.50182728],\n",
       "       [-0.10738395,  0.35407239],\n",
       "       [-0.65912955, -0.55922072],\n",
       "       [-1.20149218, -1.44489806],\n",
       "       [-2.09752504, -1.67461378],\n",
       "       [-1.90868763, -1.98097289],\n",
       "       [ 0.06080119,  0.35407239],\n",
       "       [-0.65912955, -1.25407592],\n",
       "       [-0.02247658,  0.50182728],\n",
       "       [ 1.36497974,  1.37083992],\n",
       "       [ 1.29974469,  0.70978553],\n",
       "       [ 1.42956993,  1.47819609],\n",
       "       [ 0.89335058,  0.90405329],\n",
       "       [ 1.23384111,  1.20335886],\n",
       "       [ 1.09992584,  1.14564842],\n",
       "       [ 0.37958881,  0.42895317],\n",
       "       [-0.56121667, -0.55922072],\n",
       "       [ 0.14255613, -0.55922072],\n",
       "       [ 1.16724379,  0.70978553],\n",
       "       [-1.45448835, -1.25407592],\n",
       "       [-0.76000762, -1.98097289],\n",
       "       [-0.65912955, -0.55922072],\n",
       "       [ 0.06080119, -1.08778463],\n",
       "       [-1.20149218, -1.44489806],\n",
       "       [-0.56121667, -0.448538  ],\n",
       "       [-1.59322145, -1.44489806],\n",
       "       [-1.59322145, -1.44489806],\n",
       "       [-1.45448835, -1.98097289],\n",
       "       [ 0.22288348,  0.57284038],\n",
       "       [-1.20149218, -1.08778463],\n",
       "       [ 1.55690348,  1.20335886],\n",
       "       [-0.9721336 , -0.448538  ],\n",
       "       [ 0.30186871, -1.44489806],\n",
       "       [ 0.30186871,  0.70978553],\n",
       "       [ 1.49353751,  0.96618073],\n",
       "       [-0.02247658,  0.42895317],\n",
       "       [ 0.4561135 ,  0.11561152],\n",
       "       [ 1.49353751,  1.02711465],\n",
       "       [ 0.30186871,  0.42895317],\n",
       "       [ 0.4561135 ,  0.8406634 ],\n",
       "       [-2.09752504, -1.67461378],\n",
       "       [ 0.67912138,  1.02711465],\n",
       "       [-0.65912955, -0.24395345],\n",
       "       [-0.76000762, -1.25407592],\n",
       "       [-0.28258492, -0.448538  ],\n",
       "       [-0.65912955, -0.24395345],\n",
       "       [-0.46597866, -0.93874611],\n",
       "       [ 0.30186871,  0.57284038],\n",
       "       [-0.9721336 , -0.55922072],\n",
       "       [-0.86420009, -0.448538  ],\n",
       "       [-1.08433908, -1.25407592],\n",
       "       [-0.9721336 , -0.55922072],\n",
       "       [-1.7432249 , -1.44489806],\n",
       "       [ 1.03185854,  1.20335886],\n",
       "       [-0.76000762, -0.24395345],\n",
       "       [-1.59322145, -1.25407592],\n",
       "       [-0.9721336 , -0.55922072],\n",
       "       [ 0.22288348, -0.14860977],\n",
       "       [ 1.16724379,  1.20335886],\n",
       "       [-0.19404124,  0.27701947],\n",
       "       [ 0.67912138,  1.47819609],\n",
       "       [-0.19404124, -1.44489806],\n",
       "       [ 0.75144547,  0.42895317],\n",
       "       [ 1.16724379,  1.37083992],\n",
       "       [ 0.67912138,  0.70978553],\n",
       "       [-1.08433908, -1.25407592],\n",
       "       [-0.19404124, -1.25407592],\n",
       "       [-1.7432249 , -1.67461378],\n",
       "       [-1.32447652, -1.44489806],\n",
       "       [ 1.68190857,  1.02711465],\n",
       "       [-0.19404124,  0.1976052 ],\n",
       "       [ 0.22288348,  0.50182728],\n",
       "       [-1.32447652, -1.44489806],\n",
       "       [-0.19404124,  0.35407239],\n",
       "       [-0.3731709 ,  0.03078511],\n",
       "       [ 1.29974469,  1.53069309],\n",
       "       [-1.90868763, -1.44489806],\n",
       "       [ 0.4561135 ,  0.8406634 ],\n",
       "       [-0.9721336 , -0.67680536],\n",
       "       [-0.86420009, -0.93874611],\n",
       "       [-0.86420009, -0.67680536],\n",
       "       [-0.86420009, -0.67680536],\n",
       "       [ 1.36497974,  1.58244518],\n",
       "       [ 0.14255613,  0.50182728],\n",
       "       [-1.59322145, -1.98097289],\n",
       "       [-0.19404124, -0.14860977],\n",
       "       [-0.56121667, -0.67680536],\n",
       "       [ 0.82284144,  0.03078511],\n",
       "       [ 1.55690348,  0.90405329],\n",
       "       [ 1.6196876 ,  0.8406634 ],\n",
       "       [ 0.67912138,  0.70978553],\n",
       "       [-0.28258492, -0.93874611],\n",
       "       [ 0.06080119,  0.03078511],\n",
       "       [-0.10738395, -0.3437171 ],\n",
       "       [ 0.89335058,  1.02711465],\n",
       "       [-0.76000762, -0.55922072],\n",
       "       [-0.86420009, -0.55922072],\n",
       "       [-0.3731709 , -0.55922072],\n",
       "       [ 1.49353751,  1.20335886],\n",
       "       [ 0.06080119,  0.1976052 ],\n",
       "       [-0.02247658,  0.1976052 ],\n",
       "       [-1.7432249 , -1.67461378],\n",
       "       [ 1.29974469,  1.53069309],\n",
       "       [-0.65912955, -1.98097289],\n",
       "       [ 0.14255613, -0.448538  ],\n",
       "       [ 0.82284144,  1.086918  ],\n",
       "       [ 1.42956993,  1.47819609],\n",
       "       [-1.59322145, -1.67461378],\n",
       "       [-1.45448835, -1.25407592],\n",
       "       [-0.46597866,  0.03078511],\n",
       "       [ 0.96301112,  1.26009812],\n",
       "       [ 0.37958881,  0.6421215 ],\n",
       "       [ 0.4561135 ,  0.6421215 ],\n",
       "       [ 0.37958881,  0.6421215 ],\n",
       "       [ 0.67912138,  0.90405329],\n",
       "       [-1.90868763, -1.98097289],\n",
       "       [ 0.96301112,  1.14564842],\n",
       "       [-1.59322145, -1.44489806],\n",
       "       [-0.76000762, -0.448538  ],\n",
       "       [-0.86420009, -0.55922072],\n",
       "       [-1.7432249 , -1.67461378],\n",
       "       [ 1.16724379,  0.8406634 ],\n",
       "       [ 0.06080119,  0.35407239],\n",
       "       [-0.28258492,  0.03078511],\n",
       "       [-0.19404124,  0.03078511],\n",
       "       [-0.86420009, -0.67680536],\n",
       "       [ 0.14255613,  0.35407239],\n",
       "       [-0.46597866, -0.55922072],\n",
       "       [-0.3731709 , -0.3437171 ],\n",
       "       [-0.02247658, -0.24395345],\n",
       "       [-1.7432249 , -1.25407592],\n",
       "       [ 0.60582445,  0.96618073],\n",
       "       [ 0.67912138,  1.02711465],\n",
       "       [-1.59322145, -1.08778463],\n",
       "       [ 0.60582445,  0.96618073],\n",
       "       [ 1.23384111,  0.90405329],\n",
       "       [-1.59322145, -1.25407592],\n",
       "       [-0.46597866, -0.14860977],\n",
       "       [-1.59322145, -1.08778463],\n",
       "       [ 0.14255613, -0.448538  ],\n",
       "       [-0.65912955, -0.3437171 ],\n",
       "       [-1.59322145, -1.98097289],\n",
       "       [ 0.14255613,  0.57284038],\n",
       "       [-0.65912955,  0.35407239],\n",
       "       [-2.09752504, -1.98097289],\n",
       "       [-1.32447652, -0.80267646],\n",
       "       [-0.3731709 ,  0.1976052 ],\n",
       "       [-1.90868763, -1.44489806],\n",
       "       [ 0.22288348, -0.67680536],\n",
       "       [-1.7432249 , -1.25407592],\n",
       "       [-2.09752504, -1.98097289],\n",
       "       [ 0.14255613, -0.55922072],\n",
       "       [-0.28258492,  0.1976052 ],\n",
       "       [-0.10738395,  0.42895317],\n",
       "       [-1.08433908, -0.80267646],\n",
       "       [-1.45448835, -0.93874611],\n",
       "       [-0.02247658,  0.42895317],\n",
       "       [ 1.29974469,  0.77593533],\n",
       "       [ 0.06080119,  0.50182728],\n",
       "       [-0.19404124, -0.80267646],\n",
       "       [ 0.67912138,  0.8406634 ],\n",
       "       [-0.86420009, -0.67680536],\n",
       "       [-0.56121667, -0.448538  ],\n",
       "       [ 0.60582445,  0.03078511],\n",
       "       [-1.7432249 , -1.25407592],\n",
       "       [-0.76000762, -0.24395345],\n",
       "       [-0.10738395, -0.93874611],\n",
       "       [-1.08433908, -0.55922072],\n",
       "       [ 0.53150612,  0.6421215 ],\n",
       "       [ 0.30186871,  0.70978553],\n",
       "       [ 1.03185854,  1.14564842],\n",
       "       [-0.56121667, -0.3437171 ],\n",
       "       [-0.10738395, -0.3437171 ],\n",
       "       [ 0.67912138,  1.02711465],\n",
       "       [ 0.4561135 ,  0.42895317],\n",
       "       [ 1.68190857,  0.6421215 ],\n",
       "       [-0.02247658,  0.35407239],\n",
       "       [-0.02247658,  0.42895317],\n",
       "       [-0.9721336 , -0.67680536],\n",
       "       [-1.59322145, -1.08778463],\n",
       "       [-1.59322145, -1.08778463],\n",
       "       [ 1.36497974,  0.6421215 ],\n",
       "       [-1.59322145, -1.08778463],\n",
       "       [ 1.49353751,  1.68382986],\n",
       "       [ 0.67912138,  0.27701947],\n",
       "       [-0.19404124,  0.27701947],\n",
       "       [-0.02247658, -0.93874611],\n",
       "       [ 0.14255613, -1.44489806],\n",
       "       [ 1.16724379,  1.31591123],\n",
       "       [-0.10738395,  0.35407239],\n",
       "       [-1.20149218, -1.44489806],\n",
       "       [ 0.06080119,  0.50182728],\n",
       "       [-1.59322145, -1.25407592],\n",
       "       [ 1.42956993,  1.63348163],\n",
       "       [-0.3731709 , -0.67680536],\n",
       "       [ 0.53150612,  0.42895317],\n",
       "       [-0.76000762, -1.67461378],\n",
       "       [-0.28258492, -0.24395345],\n",
       "       [-0.3731709 , -0.24395345],\n",
       "       [ 0.75144547,  0.6421215 ],\n",
       "       [-0.46597866, -0.67680536],\n",
       "       [-0.56121667, -0.24395345],\n",
       "       [ 0.14255613,  0.57284038],\n",
       "       [ 0.30186871, -0.3437171 ],\n",
       "       [-0.56121667, -0.80267646],\n",
       "       [ 1.09992584,  0.50182728],\n",
       "       [ 1.36497974,  1.42492288],\n",
       "       [ 0.06080119,  0.50182728],\n",
       "       [-1.7432249 , -1.67461378],\n",
       "       [-0.9721336 , -0.67680536],\n",
       "       [-0.28258492, -0.24395345],\n",
       "       [ 1.42956993,  1.58244518],\n",
       "       [ 0.75144547,  0.96618073],\n",
       "       [ 0.53150612,  0.77593533],\n",
       "       [ 1.36497974,  0.42895317],\n",
       "       [ 1.23384111,  0.42895317],\n",
       "       [-1.08433908, -1.25407592],\n",
       "       [ 0.67912138,  0.27701947],\n",
       "       [ 0.4561135 ,  0.8406634 ],\n",
       "       [-1.20149218, -0.80267646],\n",
       "       [ 1.86536483,  1.68382986],\n",
       "       [-0.02247658, -0.80267646],\n",
       "       [-1.45448835, -1.25407592],\n",
       "       [ 0.89335058,  1.14564842],\n",
       "       [ 1.36497974,  1.53069309],\n",
       "       [ 0.30186871,  0.70978553],\n",
       "       [-0.02247658,  0.70978553],\n",
       "       [-0.19404124, -0.24395345],\n",
       "       [ 0.82284144,  0.70978553],\n",
       "       [ 0.14255613,  0.35407239],\n",
       "       [ 0.67912138,  0.70978553],\n",
       "       [ 1.42956993,  1.63348163],\n",
       "       [ 0.06080119, -0.55922072],\n",
       "       [ 0.89335058, -0.14860977],\n",
       "       [-1.59322145, -1.44489806],\n",
       "       [ 0.67912138, -0.67680536],\n",
       "       [-0.65912955, -0.55922072],\n",
       "       [ 0.22288348,  0.6421215 ],\n",
       "       [ 0.82284144,  0.70978553],\n",
       "       [-0.9721336 , -1.25407592],\n",
       "       [ 0.96301112,  1.14564842],\n",
       "       [ 1.55690348,  1.31591123],\n",
       "       [ 0.89335058,  0.90405329],\n",
       "       [ 0.89335058,  1.20335886],\n",
       "       [ 1.29974469,  1.42492288],\n",
       "       [ 1.23384111,  1.14564842],\n",
       "       [ 1.68190857,  1.83099501],\n",
       "       [-0.46597866, -0.3437171 ],\n",
       "       [-0.56121667, -0.67680536],\n",
       "       [ 1.6196876 ,  1.68382986],\n",
       "       [-1.59322145, -1.67461378],\n",
       "       [-1.08433908, -1.08778463],\n",
       "       [-1.08433908, -1.25407592],\n",
       "       [-0.65912955, -0.80267646],\n",
       "       [ 0.89335058,  0.96618073],\n",
       "       [ 0.37958881,  0.35407239],\n",
       "       [ 1.42956993,  1.58244518],\n",
       "       [ 1.29974469,  0.96618073],\n",
       "       [ 1.80473087,  1.83099501],\n",
       "       [-1.08433908, -0.80267646],\n",
       "       [ 0.67912138,  0.96618073],\n",
       "       [-1.90868763, -1.98097289],\n",
       "       [ 0.75144547,  0.96618073],\n",
       "       [-1.08433908, -0.93874611],\n",
       "       [ 0.96301112,  1.02711465],\n",
       "       [-0.76000762, -1.67461378],\n",
       "       [-0.02247658, -0.67680536],\n",
       "       [ 1.49353751,  1.47819609],\n",
       "       [-0.10738395,  0.35407239],\n",
       "       [-0.19404124, -0.24395345],\n",
       "       [ 1.80473087,  1.63348163],\n",
       "       [ 1.42956993,  1.47819609],\n",
       "       [ 0.60582445,  0.1976052 ],\n",
       "       [ 0.67912138, -0.05717121],\n",
       "       [-0.46597866, -1.08778463],\n",
       "       [ 1.03185854,  1.20335886],\n",
       "       [-1.20149218, -1.08778463],\n",
       "       [ 0.89335058,  1.02711465],\n",
       "       [-1.45448835, -1.98097289],\n",
       "       [ 0.22288348,  0.11561152],\n",
       "       [ 0.06080119, -0.67680536],\n",
       "       [-0.46597866, -0.448538  ],\n",
       "       [ 0.75144547,  0.42895317],\n",
       "       [ 1.16724379,  1.42492288],\n",
       "       [ 0.22288348, -0.80267646],\n",
       "       [-1.32447652, -1.25407592],\n",
       "       [-0.65912955, -0.448538  ],\n",
       "       [-0.28258492,  0.1976052 ],\n",
       "       [-0.28258492,  0.11561152],\n",
       "       [ 0.37958881,  0.70978553],\n",
       "       [-0.9721336 , -0.448538  ],\n",
       "       [-0.56121667, -0.24395345],\n",
       "       [ 0.37958881,  0.11561152],\n",
       "       [ 0.82284144,  1.20335886],\n",
       "       [-1.08433908, -1.08778463],\n",
       "       [ 0.30186871,  0.11561152],\n",
       "       [ 1.29974469,  1.53069309],\n",
       "       [-0.86420009, -0.3437171 ],\n",
       "       [ 0.30186871,  0.70978553],\n",
       "       [ 0.06080119, -0.448538  ],\n",
       "       [-0.10738395, -0.3437171 ],\n",
       "       [ 1.03185854,  0.42895317],\n",
       "       [-0.02247658, -0.80267646],\n",
       "       [ 1.23384111,  1.58244518],\n",
       "       [ 1.16724379,  0.70978553],\n",
       "       [-0.56121667, -0.14860977],\n",
       "       [ 0.96301112,  0.8406634 ],\n",
       "       [ 1.29974469,  0.11561152],\n",
       "       [-0.56121667, -0.24395345],\n",
       "       [-0.19404124,  0.27701947],\n",
       "       [ 1.36497974,  1.58244518],\n",
       "       [ 0.89335058,  1.20335886],\n",
       "       [ 0.96301112,  1.42492288],\n",
       "       [-0.3731709 , -0.3437171 ],\n",
       "       [ 1.55690348,  0.96618073],\n",
       "       [ 1.42956993,  1.31591123],\n",
       "       [-1.59322145, -1.25407592],\n",
       "       [ 0.60582445,  1.02711465],\n",
       "       [ 1.36497974,  1.58244518],\n",
       "       [ 0.53150612,  0.96618073],\n",
       "       [ 0.22288348,  0.50182728],\n",
       "       [-1.08433908, -1.67461378],\n",
       "       [ 0.4561135 ,  0.57284038],\n",
       "       [ 1.42956993,  1.42492288],\n",
       "       [ 0.67912138,  0.03078511],\n",
       "       [-0.76000762, -1.08778463],\n",
       "       [-0.46597866, -0.24395345],\n",
       "       [ 0.30186871,  0.11561152],\n",
       "       [ 0.82284144,  1.14564842],\n",
       "       [ 0.06080119,  0.27701947],\n",
       "       [ 1.68190857,  1.68382986],\n",
       "       [-0.3731709 , -0.3437171 ],\n",
       "       [-0.86420009, -1.67461378],\n",
       "       [ 1.16724379,  1.14564842],\n",
       "       [ 1.03185854,  1.20335886],\n",
       "       [-0.56121667, -0.55922072],\n",
       "       [ 0.30186871,  0.50182728],\n",
       "       [-0.65912955, -0.67680536],\n",
       "       [ 0.82284144,  0.90405329],\n",
       "       [ 0.60582445,  0.42895317],\n",
       "       [ 0.67912138,  0.90405329],\n",
       "       [-1.59322145, -1.67461378],\n",
       "       [-1.32447652, -1.25407592],\n",
       "       [ 1.36497974,  1.58244518],\n",
       "       [-0.76000762, -0.55922072],\n",
       "       [-1.08433908, -1.25407592],\n",
       "       [ 0.60582445,  0.70978553],\n",
       "       [-1.08433908, -0.93874611],\n",
       "       [ 0.60582445,  0.57284038],\n",
       "       [-0.3731709 , -0.448538  ],\n",
       "       [ 0.75144547,  0.96618073],\n",
       "       [ 0.75144547,  0.11561152],\n",
       "       [ 1.36497974,  1.47819609],\n",
       "       [ 1.49353751,  0.42895317],\n",
       "       [ 0.82284144,  0.42895317],\n",
       "       [ 1.03185854,  1.14564842],\n",
       "       [ 0.89335058,  0.42895317],\n",
       "       [ 1.6196876 ,  0.8406634 ],\n",
       "       [ 0.4561135 ,  0.11561152],\n",
       "       [-1.08433908, -1.08778463]])"
      ]
     },
     "execution_count": 89,
     "metadata": {},
     "output_type": "execute_result"
    }
   ],
   "source": [
    "from sklearn.preprocessing import power_transform\n",
    "x=power_transform(x,method='yeo-johnson')\n",
    "x"
   ]
  },
  {
   "cell_type": "code",
   "execution_count": 102,
   "metadata": {},
   "outputs": [],
   "source": [
    "from sklearn.preprocessing import StandardScaler\n",
    "sc=StandardScaler()\n",
    "x=sc.fit_transform(x)"
   ]
  },
  {
   "cell_type": "markdown",
   "metadata": {},
   "source": [
    "# Since the target has continuos calues we will use linear regression"
   ]
  },
  {
   "cell_type": "code",
   "execution_count": 108,
   "metadata": {},
   "outputs": [],
   "source": [
    "from sklearn.model_selection import train_test_split\n",
    "from sklearn.linear_model import LinearRegression\n",
    "lr=LinearRegression()\n",
    "from sklearn.metrics import accuracy_score,mean_squared_error, mean_absolute_error"
   ]
  },
  {
   "cell_type": "markdown",
   "metadata": {},
   "source": [
    "# Splitting the data frame"
   ]
  },
  {
   "cell_type": "code",
   "execution_count": 109,
   "metadata": {},
   "outputs": [
    {
     "name": "stdout",
     "output_type": "stream",
     "text": [
      "(366, 2)\n",
      "(366,)\n"
     ]
    }
   ],
   "source": [
    "print(x.shape)\n",
    "print(y.shape)"
   ]
  },
  {
   "cell_type": "code",
   "execution_count": 111,
   "metadata": {},
   "outputs": [
    {
     "name": "stdout",
     "output_type": "stream",
     "text": [
      "LinearRegression(copy_X=True, fit_intercept=True, n_jobs=None, normalize=False)\n",
      "The salary score is :  0.2663147905317349 \n",
      "\n",
      " Salary Predicted score:  [102614.85061582  86741.55196493 130858.88390849 124914.65290041\n",
      "  99965.12398065 113882.79527454 111014.99300861 118402.26943571\n",
      " 109636.8970114   86570.01026202 127830.93011888 118257.0737231\n",
      " 108652.34551647 101536.04480923 122310.98500084 114281.56638853\n",
      " 113381.78194826 108060.60654994 105313.67349053 101597.07007088\n",
      "  92274.70078447 104322.29519408 101302.06568631 105301.01384659\n",
      " 124107.32303999 112728.56517008 124556.89548963 103113.71141305\n",
      " 101597.07007088 120928.51683928  91605.0838478  131426.559638\n",
      " 115468.21590424  96562.56140817  92274.70078447  91605.0838478\n",
      " 111906.05500823 103126.42596911  87724.02989027 105968.51380138\n",
      " 102373.1540537  122459.19625368 103866.98332847 114879.4894897\n",
      "  92860.47572876 122265.06667583  85674.23831866  94452.7485247\n",
      "  95625.53170221 120319.40265597 108060.60654994 123564.8759703\n",
      " 124930.70366698 132771.60604026 126789.37250832  93332.60069655\n",
      " 117722.00164715 135999.30236897 120386.06976959 116258.00784537\n",
      " 133113.0813857  115468.21590424  91328.54688813  83844.27747031\n",
      "  97472.97803247  86570.01026202 120319.40265597 102337.62743023\n",
      " 107379.41453155  86834.04288937 129212.22615666 104731.77475879\n",
      " 121994.09838362 123005.34677671 103126.42596911  94134.18331755\n",
      " 130997.30691954  99178.38708737 119679.21820643 125934.02041411\n",
      " 126300.67856175  94134.18331755 112728.56517008  87724.02989027\n",
      " 127025.4710858  132274.69517038 118527.44884459 134912.58191319\n",
      " 131426.559638   109281.30972356  90537.77020153 103706.46449244\n",
      "  89383.75057328 116474.98659175 114651.42599508  94452.7485247\n",
      " 122310.98500084 132074.09486829 116115.16183337 124914.65290041\n",
      "  90537.77020153 130988.27719243 117740.28964064 109785.1966388\n",
      "  91650.39416114 110333.80099021 125723.79096399 126789.37250832\n",
      " 111208.28432648 131717.65374525 123431.2893754  118257.0737231\n",
      " 108540.7523642  128729.41225031  85674.23831866 112061.88575926\n",
      " 115761.79218077 124107.32303999 100322.59689736 130727.33133377\n",
      "  94664.08005039] \n",
      "\n",
      " expericence Predicted score:  [118990.99585026  89261.01489522 131214.82389179 113673.91033826\n",
      " 128421.38960952 122718.68252211  95565.37248431  86834.04288937\n",
      " 104078.55798061  99101.89496677 127175.50231945 124788.38963415\n",
      " 109281.30972356 115640.02640013 126109.92077512 102339.68907583\n",
      "  83844.27747031 103866.98332847 104573.11613118 131426.559638\n",
      " 117564.72633257 116115.16183337 113381.78194826  96571.68559856\n",
      " 131967.89078886 100008.7505566  133113.0813857  102339.68907583\n",
      " 129337.64441303  95315.97753859 121159.38695921 106606.44057861\n",
      " 117168.58961749 102730.68655139 125567.47370543 119836.80006897\n",
      " 108540.7523642  100705.68134001  91650.39416114 126259.70951786\n",
      " 100025.31038    126376.61638349 104599.67673917  92605.30219444\n",
      " 118716.49569441 100795.48744988 103815.04852047 124219.11171655\n",
      " 100008.7505566  132274.69517038  91650.39416114 131265.80799522\n",
      " 118257.0737231  132074.09486829 104568.32043589 116258.00784537\n",
      " 123431.2893754   94452.7485247  109217.63894469 103840.48811132\n",
      "  83247.26631282 117064.15108092 128970.12682709 132074.09486829\n",
      " 123282.57688067 107911.78815712 105642.19138309 118402.26943571\n",
      " 106015.01059795 120595.49260065 105235.82039068  98060.54758841\n",
      " 115011.06219304 120466.33628757 130718.87089361 108371.99691616\n",
      " 115011.06219304 127175.50231945  90537.77020153 107806.73821453\n",
      " 122265.06667583 126109.92077512 119836.80006897 122459.19625368\n",
      " 127175.50231945 101497.50903482 129627.90926238 125790.33231757\n",
      "  91328.54688813 100705.68134001  92274.70078447 120319.40265597\n",
      " 102237.38191665  86570.01026202 129699.50337991 118263.83006528\n",
      " 103859.11937982  99178.38708737 122874.8793594  116378.07681686\n",
      " 135391.26575232 111546.33909784 106484.3714241   98256.15389128\n",
      "  91650.39416114 121159.38695921 113229.57849636 114022.46178799\n",
      "  94664.08005039 104375.26567465  89383.75057328  90537.77020153\n",
      "  89261.01489522  81794.4858987   91605.0838478  123548.00831448\n",
      " 100008.7505566  128128.28277889 104482.54847526 112728.56517008\n",
      " 129271.11257611 107529.81687514 108059.78600598 106682.51055274\n",
      "  89261.01489522 113882.79527454 115640.02640013  86741.55196493\n",
      " 103072.38248654  89383.75057328  92084.39174594 131577.18399841\n",
      " 126726.81451519 126259.70951786 118257.0737231  134274.51116643\n",
      "  87724.02989027  91639.00821344 124930.70366698 136802.64744583\n",
      " 116865.66389564 115011.06219304 103706.46449244 111859.40699182\n",
      "  99178.38708737  90537.77020153 123282.57688067  89261.01489522\n",
      "  83247.26631282 103786.3792379  121739.23271838 102373.1540537\n",
      " 107125.05126384 131928.43161976 124523.00614571 113882.79527454\n",
      " 105873.74716791 123282.57688067  99965.12398065 109380.50273895\n",
      " 114022.46178799 102373.1540537  128217.05993001 114370.38235331\n",
      "  81794.4858987  129140.41670436 113506.91512657 105235.82039068\n",
      " 107379.41453155 116027.82260715 132274.69517038 121159.38695921\n",
      " 105235.82039068 131220.74287537 118854.99682427 114281.56638853\n",
      " 128343.28243918 123431.2893754  125181.3438943   96562.56140817\n",
      " 118144.74341195  93714.89673127 129548.11422563 132771.60604026\n",
      " 118263.83006528 100744.2371194  112975.56903734 117340.79932888\n",
      " 112975.56903734  96947.92362881 108520.73496588 121263.06958665\n",
      " 116733.14327861 127649.5128143  108698.53332717 101319.78582122\n",
      " 137320.82753189 111881.96620254  97724.00761163 111546.33909784\n",
      " 132274.69517038 132566.21590671 122035.06637637 125545.92739793\n",
      " 106015.01059795 108059.78600598  94452.7485247  106015.01059795\n",
      " 117196.69028428  99965.12398065 106010.57746934 119571.01292963\n",
      " 133942.07305841 129271.11257611 125983.16500732 116052.42757197\n",
      "  88106.99526697 104482.54847526 114651.42599508 136375.92028094\n",
      " 116975.99991803 121958.51307954  97472.97803247 135999.30236897\n",
      " 111546.33909784 110333.80099021 101586.41716042  95565.37248431\n",
      " 105642.19138309 108483.82768457 109898.83096309  95625.53170221\n",
      " 108059.78600598 100008.7505566  116616.32193053  86570.01026202\n",
      "  83247.26631282  95565.37248431 127313.03382264  91650.39416114\n",
      "  94452.7485247  112334.88919761 125466.62222086  92605.30219444\n",
      " 100795.48744988] \n",
      "\n",
      "Actual Score : 205     96545\n",
      "35      77000\n",
      "17     103450\n",
      "336     98053\n",
      "60      90304\n",
      "        ...  \n",
      "244     84273\n",
      "20      89565\n",
      "303    105260\n",
      "109    131205\n",
      "306     74500\n",
      "Name: salary, Length: 121, dtype: int64 \n",
      "\n",
      "Mean absolute error : 16432.643450114385\n",
      "Mean squared error : 433298047.50980824\n",
      "Root Mean Squared Error : 20815.812439340632\n"
     ]
    }
   ],
   "source": [
    "x_train,x_test,y_train,y_test=train_test_split(x,y,test_size=.33,random_state=42)\n",
    "model=lr.fit(x_train,y_train)\n",
    "score=lr.score(x_train,y_train)\n",
    "y_pred=lr.predict(x_test)\n",
    "x_pred=lr.predict(x_train)\n",
    "coef=ln.coef_\n",
    "intercept=ln.intercept_\n",
    "print(model)\n",
    "print('The salary score is : ' ,score ,'\\n')\n",
    "print(' Salary Predicted score: ',y_pred,'\\n')\n",
    "print(' expericence Predicted score: ',x_pred,'\\n')\n",
    "print('Actual Score :',y_test,'\\n')\n",
    "print('Mean absolute error :', mean_absolute_error(y_test,pred))\n",
    "print('Mean squared error :' , mean_squared_error(y_test,pred))\n",
    "print('Root Mean Squared Error :', np.sqrt(mean_squared_error(y_test,pred)))"
   ]
  },
  {
   "cell_type": "markdown",
   "metadata": {},
   "source": [
    "# Linear Regression Graph"
   ]
  },
  {
   "cell_type": "code",
   "execution_count": 114,
   "metadata": {},
   "outputs": [
    {
     "ename": "ValueError",
     "evalue": "x and y must be the same size",
     "output_type": "error",
     "traceback": [
      "\u001b[1;31m---------------------------------------------------------------------------\u001b[0m",
      "\u001b[1;31mValueError\u001b[0m                                Traceback (most recent call last)",
      "\u001b[1;32m<ipython-input-114-b48b08d7fb06>\u001b[0m in \u001b[0;36m<module>\u001b[1;34m\u001b[0m\n\u001b[1;32m----> 1\u001b[1;33m \u001b[0mplt\u001b[0m\u001b[1;33m.\u001b[0m\u001b[0mscatter\u001b[0m\u001b[1;33m(\u001b[0m\u001b[0mx_train\u001b[0m\u001b[1;33m,\u001b[0m \u001b[0my_train\u001b[0m\u001b[1;33m,\u001b[0m \u001b[0mcolor\u001b[0m\u001b[1;33m=\u001b[0m\u001b[1;34m\"green\"\u001b[0m\u001b[1;33m)\u001b[0m\u001b[1;33m\u001b[0m\u001b[1;33m\u001b[0m\u001b[0m\n\u001b[0m\u001b[0;32m      2\u001b[0m \u001b[0mplt\u001b[0m\u001b[1;33m.\u001b[0m\u001b[0mplot\u001b[0m\u001b[1;33m(\u001b[0m\u001b[0mx_train\u001b[0m\u001b[1;33m,\u001b[0m \u001b[0mx_pred\u001b[0m\u001b[1;33m,\u001b[0m \u001b[0mcolor\u001b[0m\u001b[1;33m=\u001b[0m\u001b[1;34m\"red\"\u001b[0m\u001b[1;33m)\u001b[0m\u001b[1;33m\u001b[0m\u001b[1;33m\u001b[0m\u001b[0m\n\u001b[0;32m      3\u001b[0m \u001b[0mplt\u001b[0m\u001b[1;33m.\u001b[0m\u001b[0mtitle\u001b[0m\u001b[1;33m(\u001b[0m\u001b[1;34m\"Salary vs Experience (Training Dataset)\"\u001b[0m\u001b[1;33m)\u001b[0m\u001b[1;33m\u001b[0m\u001b[1;33m\u001b[0m\u001b[0m\n\u001b[0;32m      4\u001b[0m \u001b[0mplt\u001b[0m\u001b[1;33m.\u001b[0m\u001b[0mxlabel\u001b[0m\u001b[1;33m(\u001b[0m\u001b[1;34m\"Years of Experience\"\u001b[0m\u001b[1;33m)\u001b[0m\u001b[1;33m\u001b[0m\u001b[1;33m\u001b[0m\u001b[0m\n\u001b[0;32m      5\u001b[0m \u001b[0mplt\u001b[0m\u001b[1;33m.\u001b[0m\u001b[0mylabel\u001b[0m\u001b[1;33m(\u001b[0m\u001b[1;34m\"Salary(In Rupees)\"\u001b[0m\u001b[1;33m)\u001b[0m\u001b[1;33m\u001b[0m\u001b[1;33m\u001b[0m\u001b[0m\n",
      "\u001b[1;32m~\\anaconda3\\lib\\site-packages\\matplotlib\\pyplot.py\u001b[0m in \u001b[0;36mscatter\u001b[1;34m(x, y, s, c, marker, cmap, norm, vmin, vmax, alpha, linewidths, verts, edgecolors, plotnonfinite, data, **kwargs)\u001b[0m\n\u001b[0;32m   2846\u001b[0m         \u001b[0mverts\u001b[0m\u001b[1;33m=\u001b[0m\u001b[0mverts\u001b[0m\u001b[1;33m,\u001b[0m \u001b[0medgecolors\u001b[0m\u001b[1;33m=\u001b[0m\u001b[0medgecolors\u001b[0m\u001b[1;33m,\u001b[0m\u001b[1;33m\u001b[0m\u001b[1;33m\u001b[0m\u001b[0m\n\u001b[0;32m   2847\u001b[0m         plotnonfinite=plotnonfinite, **({\"data\": data} if data is not\n\u001b[1;32m-> 2848\u001b[1;33m         None else {}), **kwargs)\n\u001b[0m\u001b[0;32m   2849\u001b[0m     \u001b[0msci\u001b[0m\u001b[1;33m(\u001b[0m\u001b[0m__ret\u001b[0m\u001b[1;33m)\u001b[0m\u001b[1;33m\u001b[0m\u001b[1;33m\u001b[0m\u001b[0m\n\u001b[0;32m   2850\u001b[0m     \u001b[1;32mreturn\u001b[0m \u001b[0m__ret\u001b[0m\u001b[1;33m\u001b[0m\u001b[1;33m\u001b[0m\u001b[0m\n",
      "\u001b[1;32m~\\anaconda3\\lib\\site-packages\\matplotlib\\__init__.py\u001b[0m in \u001b[0;36minner\u001b[1;34m(ax, data, *args, **kwargs)\u001b[0m\n\u001b[0;32m   1597\u001b[0m     \u001b[1;32mdef\u001b[0m \u001b[0minner\u001b[0m\u001b[1;33m(\u001b[0m\u001b[0max\u001b[0m\u001b[1;33m,\u001b[0m \u001b[1;33m*\u001b[0m\u001b[0margs\u001b[0m\u001b[1;33m,\u001b[0m \u001b[0mdata\u001b[0m\u001b[1;33m=\u001b[0m\u001b[1;32mNone\u001b[0m\u001b[1;33m,\u001b[0m \u001b[1;33m**\u001b[0m\u001b[0mkwargs\u001b[0m\u001b[1;33m)\u001b[0m\u001b[1;33m:\u001b[0m\u001b[1;33m\u001b[0m\u001b[1;33m\u001b[0m\u001b[0m\n\u001b[0;32m   1598\u001b[0m         \u001b[1;32mif\u001b[0m \u001b[0mdata\u001b[0m \u001b[1;32mis\u001b[0m \u001b[1;32mNone\u001b[0m\u001b[1;33m:\u001b[0m\u001b[1;33m\u001b[0m\u001b[1;33m\u001b[0m\u001b[0m\n\u001b[1;32m-> 1599\u001b[1;33m             \u001b[1;32mreturn\u001b[0m \u001b[0mfunc\u001b[0m\u001b[1;33m(\u001b[0m\u001b[0max\u001b[0m\u001b[1;33m,\u001b[0m \u001b[1;33m*\u001b[0m\u001b[0mmap\u001b[0m\u001b[1;33m(\u001b[0m\u001b[0msanitize_sequence\u001b[0m\u001b[1;33m,\u001b[0m \u001b[0margs\u001b[0m\u001b[1;33m)\u001b[0m\u001b[1;33m,\u001b[0m \u001b[1;33m**\u001b[0m\u001b[0mkwargs\u001b[0m\u001b[1;33m)\u001b[0m\u001b[1;33m\u001b[0m\u001b[1;33m\u001b[0m\u001b[0m\n\u001b[0m\u001b[0;32m   1600\u001b[0m \u001b[1;33m\u001b[0m\u001b[0m\n\u001b[0;32m   1601\u001b[0m         \u001b[0mbound\u001b[0m \u001b[1;33m=\u001b[0m \u001b[0mnew_sig\u001b[0m\u001b[1;33m.\u001b[0m\u001b[0mbind\u001b[0m\u001b[1;33m(\u001b[0m\u001b[0max\u001b[0m\u001b[1;33m,\u001b[0m \u001b[1;33m*\u001b[0m\u001b[0margs\u001b[0m\u001b[1;33m,\u001b[0m \u001b[1;33m**\u001b[0m\u001b[0mkwargs\u001b[0m\u001b[1;33m)\u001b[0m\u001b[1;33m\u001b[0m\u001b[1;33m\u001b[0m\u001b[0m\n",
      "\u001b[1;32m~\\anaconda3\\lib\\site-packages\\matplotlib\\axes\\_axes.py\u001b[0m in \u001b[0;36mscatter\u001b[1;34m(self, x, y, s, c, marker, cmap, norm, vmin, vmax, alpha, linewidths, verts, edgecolors, plotnonfinite, **kwargs)\u001b[0m\n\u001b[0;32m   4441\u001b[0m         \u001b[0my\u001b[0m \u001b[1;33m=\u001b[0m \u001b[0mnp\u001b[0m\u001b[1;33m.\u001b[0m\u001b[0mma\u001b[0m\u001b[1;33m.\u001b[0m\u001b[0mravel\u001b[0m\u001b[1;33m(\u001b[0m\u001b[0my\u001b[0m\u001b[1;33m)\u001b[0m\u001b[1;33m\u001b[0m\u001b[1;33m\u001b[0m\u001b[0m\n\u001b[0;32m   4442\u001b[0m         \u001b[1;32mif\u001b[0m \u001b[0mx\u001b[0m\u001b[1;33m.\u001b[0m\u001b[0msize\u001b[0m \u001b[1;33m!=\u001b[0m \u001b[0my\u001b[0m\u001b[1;33m.\u001b[0m\u001b[0msize\u001b[0m\u001b[1;33m:\u001b[0m\u001b[1;33m\u001b[0m\u001b[1;33m\u001b[0m\u001b[0m\n\u001b[1;32m-> 4443\u001b[1;33m             \u001b[1;32mraise\u001b[0m \u001b[0mValueError\u001b[0m\u001b[1;33m(\u001b[0m\u001b[1;34m\"x and y must be the same size\"\u001b[0m\u001b[1;33m)\u001b[0m\u001b[1;33m\u001b[0m\u001b[1;33m\u001b[0m\u001b[0m\n\u001b[0m\u001b[0;32m   4444\u001b[0m \u001b[1;33m\u001b[0m\u001b[0m\n\u001b[0;32m   4445\u001b[0m         \u001b[1;32mif\u001b[0m \u001b[0ms\u001b[0m \u001b[1;32mis\u001b[0m \u001b[1;32mNone\u001b[0m\u001b[1;33m:\u001b[0m\u001b[1;33m\u001b[0m\u001b[1;33m\u001b[0m\u001b[0m\n",
      "\u001b[1;31mValueError\u001b[0m: x and y must be the same size"
     ]
    },
    {
     "data": {
      "image/png": "[encoded data removed]",
      "text/plain": [
       "<Figure size 432x288 with 1 Axes>"
      ]
     },
     "metadata": {
      "needs_background": "light"
     },
     "output_type": "display_data"
    }
   ],
   "source": [
    "plt.scatter(x_train, y_train, color=\"green\")   \n",
    "plt.plot(x_train, x_pred, color=\"red\")    \n",
    "plt.title(\"Salary vs Experience (Training Dataset)\")  \n",
    "plt.xlabel(\"Years of Experience\")  \n",
    "plt.ylabel(\"Salary(In Rupees)\")  \n",
    "plt.show()"
   ]
  },
  {
   "cell_type": "code",
   "execution_count": 118,
   "metadata": {},
   "outputs": [
    {
     "ename": "ValueError",
     "evalue": "x and y must be the same size",
     "output_type": "error",
     "traceback": [
      "\u001b[1;31m---------------------------------------------------------------------------\u001b[0m",
      "\u001b[1;31mValueError\u001b[0m                                Traceback (most recent call last)",
      "\u001b[1;32m<ipython-input-118-69d21b53a5c2>\u001b[0m in \u001b[0;36m<module>\u001b[1;34m\u001b[0m\n\u001b[0;32m      1\u001b[0m \u001b[1;31m#visualizing the Test set results\u001b[0m\u001b[1;33m\u001b[0m\u001b[1;33m\u001b[0m\u001b[1;33m\u001b[0m\u001b[0m\n\u001b[1;32m----> 2\u001b[1;33m \u001b[0mplt\u001b[0m\u001b[1;33m.\u001b[0m\u001b[0mscatter\u001b[0m\u001b[1;33m(\u001b[0m\u001b[0mx_test\u001b[0m\u001b[1;33m,\u001b[0m \u001b[0my_test\u001b[0m\u001b[1;33m,\u001b[0m \u001b[0mcolor\u001b[0m\u001b[1;33m=\u001b[0m\u001b[1;34m\"blue\"\u001b[0m\u001b[1;33m)\u001b[0m\u001b[1;33m\u001b[0m\u001b[1;33m\u001b[0m\u001b[0m\n\u001b[0m\u001b[0;32m      3\u001b[0m \u001b[0mplt\u001b[0m\u001b[1;33m.\u001b[0m\u001b[0mplot\u001b[0m\u001b[1;33m(\u001b[0m\u001b[0mx_train\u001b[0m\u001b[1;33m,\u001b[0m \u001b[0mx_pred\u001b[0m\u001b[1;33m,\u001b[0m \u001b[0mcolor\u001b[0m\u001b[1;33m=\u001b[0m\u001b[1;34m\"red\"\u001b[0m\u001b[1;33m)\u001b[0m\u001b[1;33m\u001b[0m\u001b[1;33m\u001b[0m\u001b[0m\n\u001b[0;32m      4\u001b[0m \u001b[0mplt\u001b[0m\u001b[1;33m.\u001b[0m\u001b[0mtitle\u001b[0m\u001b[1;33m(\u001b[0m\u001b[1;34m\"Salary vs Experience (Test Dataset)\"\u001b[0m\u001b[1;33m)\u001b[0m\u001b[1;33m\u001b[0m\u001b[1;33m\u001b[0m\u001b[0m\n\u001b[0;32m      5\u001b[0m \u001b[0mplt\u001b[0m\u001b[1;33m.\u001b[0m\u001b[0mxlabel\u001b[0m\u001b[1;33m(\u001b[0m\u001b[1;34m\"Years of Experience\"\u001b[0m\u001b[1;33m)\u001b[0m\u001b[1;33m\u001b[0m\u001b[1;33m\u001b[0m\u001b[0m\n",
      "\u001b[1;32m~\\anaconda3\\lib\\site-packages\\matplotlib\\pyplot.py\u001b[0m in \u001b[0;36mscatter\u001b[1;34m(x, y, s, c, marker, cmap, norm, vmin, vmax, alpha, linewidths, verts, edgecolors, plotnonfinite, data, **kwargs)\u001b[0m\n\u001b[0;32m   2846\u001b[0m         \u001b[0mverts\u001b[0m\u001b[1;33m=\u001b[0m\u001b[0mverts\u001b[0m\u001b[1;33m,\u001b[0m \u001b[0medgecolors\u001b[0m\u001b[1;33m=\u001b[0m\u001b[0medgecolors\u001b[0m\u001b[1;33m,\u001b[0m\u001b[1;33m\u001b[0m\u001b[1;33m\u001b[0m\u001b[0m\n\u001b[0;32m   2847\u001b[0m         plotnonfinite=plotnonfinite, **({\"data\": data} if data is not\n\u001b[1;32m-> 2848\u001b[1;33m         None else {}), **kwargs)\n\u001b[0m\u001b[0;32m   2849\u001b[0m     \u001b[0msci\u001b[0m\u001b[1;33m(\u001b[0m\u001b[0m__ret\u001b[0m\u001b[1;33m)\u001b[0m\u001b[1;33m\u001b[0m\u001b[1;33m\u001b[0m\u001b[0m\n\u001b[0;32m   2850\u001b[0m     \u001b[1;32mreturn\u001b[0m \u001b[0m__ret\u001b[0m\u001b[1;33m\u001b[0m\u001b[1;33m\u001b[0m\u001b[0m\n",
      "\u001b[1;32m~\\anaconda3\\lib\\site-packages\\matplotlib\\__init__.py\u001b[0m in \u001b[0;36minner\u001b[1;34m(ax, data, *args, **kwargs)\u001b[0m\n\u001b[0;32m   1597\u001b[0m     \u001b[1;32mdef\u001b[0m \u001b[0minner\u001b[0m\u001b[1;33m(\u001b[0m\u001b[0max\u001b[0m\u001b[1;33m,\u001b[0m \u001b[1;33m*\u001b[0m\u001b[0margs\u001b[0m\u001b[1;33m,\u001b[0m \u001b[0mdata\u001b[0m\u001b[1;33m=\u001b[0m\u001b[1;32mNone\u001b[0m\u001b[1;33m,\u001b[0m \u001b[1;33m**\u001b[0m\u001b[0mkwargs\u001b[0m\u001b[1;33m)\u001b[0m\u001b[1;33m:\u001b[0m\u001b[1;33m\u001b[0m\u001b[1;33m\u001b[0m\u001b[0m\n\u001b[0;32m   1598\u001b[0m         \u001b[1;32mif\u001b[0m \u001b[0mdata\u001b[0m \u001b[1;32mis\u001b[0m \u001b[1;32mNone\u001b[0m\u001b[1;33m:\u001b[0m\u001b[1;33m\u001b[0m\u001b[1;33m\u001b[0m\u001b[0m\n\u001b[1;32m-> 1599\u001b[1;33m             \u001b[1;32mreturn\u001b[0m \u001b[0mfunc\u001b[0m\u001b[1;33m(\u001b[0m\u001b[0max\u001b[0m\u001b[1;33m,\u001b[0m \u001b[1;33m*\u001b[0m\u001b[0mmap\u001b[0m\u001b[1;33m(\u001b[0m\u001b[0msanitize_sequence\u001b[0m\u001b[1;33m,\u001b[0m \u001b[0margs\u001b[0m\u001b[1;33m)\u001b[0m\u001b[1;33m,\u001b[0m \u001b[1;33m**\u001b[0m\u001b[0mkwargs\u001b[0m\u001b[1;33m)\u001b[0m\u001b[1;33m\u001b[0m\u001b[1;33m\u001b[0m\u001b[0m\n\u001b[0m\u001b[0;32m   1600\u001b[0m \u001b[1;33m\u001b[0m\u001b[0m\n\u001b[0;32m   1601\u001b[0m         \u001b[0mbound\u001b[0m \u001b[1;33m=\u001b[0m \u001b[0mnew_sig\u001b[0m\u001b[1;33m.\u001b[0m\u001b[0mbind\u001b[0m\u001b[1;33m(\u001b[0m\u001b[0max\u001b[0m\u001b[1;33m,\u001b[0m \u001b[1;33m*\u001b[0m\u001b[0margs\u001b[0m\u001b[1;33m,\u001b[0m \u001b[1;33m**\u001b[0m\u001b[0mkwargs\u001b[0m\u001b[1;33m)\u001b[0m\u001b[1;33m\u001b[0m\u001b[1;33m\u001b[0m\u001b[0m\n",
      "\u001b[1;32m~\\anaconda3\\lib\\site-packages\\matplotlib\\axes\\_axes.py\u001b[0m in \u001b[0;36mscatter\u001b[1;34m(self, x, y, s, c, marker, cmap, norm, vmin, vmax, alpha, linewidths, verts, edgecolors, plotnonfinite, **kwargs)\u001b[0m\n\u001b[0;32m   4441\u001b[0m         \u001b[0my\u001b[0m \u001b[1;33m=\u001b[0m \u001b[0mnp\u001b[0m\u001b[1;33m.\u001b[0m\u001b[0mma\u001b[0m\u001b[1;33m.\u001b[0m\u001b[0mravel\u001b[0m\u001b[1;33m(\u001b[0m\u001b[0my\u001b[0m\u001b[1;33m)\u001b[0m\u001b[1;33m\u001b[0m\u001b[1;33m\u001b[0m\u001b[0m\n\u001b[0;32m   4442\u001b[0m         \u001b[1;32mif\u001b[0m \u001b[0mx\u001b[0m\u001b[1;33m.\u001b[0m\u001b[0msize\u001b[0m \u001b[1;33m!=\u001b[0m \u001b[0my\u001b[0m\u001b[1;33m.\u001b[0m\u001b[0msize\u001b[0m\u001b[1;33m:\u001b[0m\u001b[1;33m\u001b[0m\u001b[1;33m\u001b[0m\u001b[0m\n\u001b[1;32m-> 4443\u001b[1;33m             \u001b[1;32mraise\u001b[0m \u001b[0mValueError\u001b[0m\u001b[1;33m(\u001b[0m\u001b[1;34m\"x and y must be the same size\"\u001b[0m\u001b[1;33m)\u001b[0m\u001b[1;33m\u001b[0m\u001b[1;33m\u001b[0m\u001b[0m\n\u001b[0m\u001b[0;32m   4444\u001b[0m \u001b[1;33m\u001b[0m\u001b[0m\n\u001b[0;32m   4445\u001b[0m         \u001b[1;32mif\u001b[0m \u001b[0ms\u001b[0m \u001b[1;32mis\u001b[0m \u001b[1;32mNone\u001b[0m\u001b[1;33m:\u001b[0m\u001b[1;33m\u001b[0m\u001b[1;33m\u001b[0m\u001b[0m\n",
      "\u001b[1;31mValueError\u001b[0m: x and y must be the same size"
     ]
    },
    {
     "data": {
      "image/png": "[encoded data removed]",
      "text/plain": [
       "<Figure size 432x288 with 1 Axes>"
      ]
     },
     "metadata": {
      "needs_background": "light"
     },
     "output_type": "display_data"
    }
   ],
   "source": [
    "#visualizing the Test set results  \n",
    "plt.scatter(x_test, y_test, color=\"blue\")   \n",
    "plt.plot(x_train, x_pred, color=\"red\")    \n",
    "plt.title(\"Salary vs Experience (Test Dataset)\")  \n",
    "plt.xlabel(\"Years of Experience\")  \n",
    "plt.ylabel(\"Salary(In Rupees)\")  \n",
    "plt.show()  "
   ]
  },
  {
   "cell_type": "code",
   "execution_count": null,
   "metadata": {},
   "outputs": [],
   "source": []
  }
 ],
 "metadata": {
  "kernelspec": {
   "display_name": "Python 3",
   "language": "python",
   "name": "python3"
  },
  "language_info": {
   "codemirror_mode": {
    "name": "ipython",
    "version": 3
   },
   "file_extension": ".py",
   "mimetype": "text/x-python",
   "name": "python",
   "nbconvert_exporter": "python",
   "pygments_lexer": "ipython3",
   "version": "3.7.6"
  }
 },
 "nbformat": 4,
 "nbformat_minor": 4
}
